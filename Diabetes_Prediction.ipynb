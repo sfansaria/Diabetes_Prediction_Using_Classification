{
  "nbformat": 4,
  "nbformat_minor": 0,
  "metadata": {
    "colab": {
      "provenance": []
    },
    "kernelspec": {
      "name": "python3",
      "display_name": "Python 3"
    },
    "language_info": {
      "name": "python"
    },
    "widgets": {
      "application/vnd.jupyter.widget-state+json": {
        "79e1c8ab6dcc4418af991925f04ade64": {
          "model_module": "@jupyter-widgets/controls",
          "model_name": "HBoxModel",
          "model_module_version": "1.5.0",
          "state": {
            "_dom_classes": [],
            "_model_module": "@jupyter-widgets/controls",
            "_model_module_version": "1.5.0",
            "_model_name": "HBoxModel",
            "_view_count": null,
            "_view_module": "@jupyter-widgets/controls",
            "_view_module_version": "1.5.0",
            "_view_name": "HBoxView",
            "box_style": "",
            "children": [
              "IPY_MODEL_dcf9ff2ff6fe46cfa428d33add236339",
              "IPY_MODEL_39341e013d024283ad9dc193370eedc3",
              "IPY_MODEL_e4486846893a40cd9cf2aaa07c5aecf9"
            ],
            "layout": "IPY_MODEL_9b0fbd670b714e26a02a1ef9580f9d03"
          }
        },
        "dcf9ff2ff6fe46cfa428d33add236339": {
          "model_module": "@jupyter-widgets/controls",
          "model_name": "HTMLModel",
          "model_module_version": "1.5.0",
          "state": {
            "_dom_classes": [],
            "_model_module": "@jupyter-widgets/controls",
            "_model_module_version": "1.5.0",
            "_model_name": "HTMLModel",
            "_view_count": null,
            "_view_module": "@jupyter-widgets/controls",
            "_view_module_version": "1.5.0",
            "_view_name": "HTMLView",
            "description": "",
            "description_tooltip": null,
            "layout": "IPY_MODEL_d8b094357e13448d94c753f816c169c4",
            "placeholder": "​",
            "style": "IPY_MODEL_94ba9fbbbb1c4681a76dd415f9af89c1",
            "value": "Processing: 100%"
          }
        },
        "39341e013d024283ad9dc193370eedc3": {
          "model_module": "@jupyter-widgets/controls",
          "model_name": "FloatProgressModel",
          "model_module_version": "1.5.0",
          "state": {
            "_dom_classes": [],
            "_model_module": "@jupyter-widgets/controls",
            "_model_module_version": "1.5.0",
            "_model_name": "FloatProgressModel",
            "_view_count": null,
            "_view_module": "@jupyter-widgets/controls",
            "_view_module_version": "1.5.0",
            "_view_name": "ProgressView",
            "bar_style": "",
            "description": "",
            "description_tooltip": null,
            "layout": "IPY_MODEL_465f9cdfee2c4b10a2855697539852b3",
            "max": 65,
            "min": 0,
            "orientation": "horizontal",
            "style": "IPY_MODEL_01629cb85ce44f609a03b1fe634c6d2b",
            "value": 65
          }
        },
        "e4486846893a40cd9cf2aaa07c5aecf9": {
          "model_module": "@jupyter-widgets/controls",
          "model_name": "HTMLModel",
          "model_module_version": "1.5.0",
          "state": {
            "_dom_classes": [],
            "_model_module": "@jupyter-widgets/controls",
            "_model_module_version": "1.5.0",
            "_model_name": "HTMLModel",
            "_view_count": null,
            "_view_module": "@jupyter-widgets/controls",
            "_view_module_version": "1.5.0",
            "_view_name": "HTMLView",
            "description": "",
            "description_tooltip": null,
            "layout": "IPY_MODEL_42705d0bfe6f454ab853155e89c36bd8",
            "placeholder": "​",
            "style": "IPY_MODEL_ff528f521c5c4a6d8108a0d3c98a8180",
            "value": " 65/65 [00:29&lt;00:00,  2.67it/s]"
          }
        },
        "9b0fbd670b714e26a02a1ef9580f9d03": {
          "model_module": "@jupyter-widgets/base",
          "model_name": "LayoutModel",
          "model_module_version": "1.2.0",
          "state": {
            "_model_module": "@jupyter-widgets/base",
            "_model_module_version": "1.2.0",
            "_model_name": "LayoutModel",
            "_view_count": null,
            "_view_module": "@jupyter-widgets/base",
            "_view_module_version": "1.2.0",
            "_view_name": "LayoutView",
            "align_content": null,
            "align_items": null,
            "align_self": null,
            "border": null,
            "bottom": null,
            "display": null,
            "flex": null,
            "flex_flow": null,
            "grid_area": null,
            "grid_auto_columns": null,
            "grid_auto_flow": null,
            "grid_auto_rows": null,
            "grid_column": null,
            "grid_gap": null,
            "grid_row": null,
            "grid_template_areas": null,
            "grid_template_columns": null,
            "grid_template_rows": null,
            "height": null,
            "justify_content": null,
            "justify_items": null,
            "left": null,
            "margin": null,
            "max_height": null,
            "max_width": null,
            "min_height": null,
            "min_width": null,
            "object_fit": null,
            "object_position": null,
            "order": null,
            "overflow": null,
            "overflow_x": null,
            "overflow_y": null,
            "padding": null,
            "right": null,
            "top": null,
            "visibility": "hidden",
            "width": null
          }
        },
        "d8b094357e13448d94c753f816c169c4": {
          "model_module": "@jupyter-widgets/base",
          "model_name": "LayoutModel",
          "model_module_version": "1.2.0",
          "state": {
            "_model_module": "@jupyter-widgets/base",
            "_model_module_version": "1.2.0",
            "_model_name": "LayoutModel",
            "_view_count": null,
            "_view_module": "@jupyter-widgets/base",
            "_view_module_version": "1.2.0",
            "_view_name": "LayoutView",
            "align_content": null,
            "align_items": null,
            "align_self": null,
            "border": null,
            "bottom": null,
            "display": null,
            "flex": null,
            "flex_flow": null,
            "grid_area": null,
            "grid_auto_columns": null,
            "grid_auto_flow": null,
            "grid_auto_rows": null,
            "grid_column": null,
            "grid_gap": null,
            "grid_row": null,
            "grid_template_areas": null,
            "grid_template_columns": null,
            "grid_template_rows": null,
            "height": null,
            "justify_content": null,
            "justify_items": null,
            "left": null,
            "margin": null,
            "max_height": null,
            "max_width": null,
            "min_height": null,
            "min_width": null,
            "object_fit": null,
            "object_position": null,
            "order": null,
            "overflow": null,
            "overflow_x": null,
            "overflow_y": null,
            "padding": null,
            "right": null,
            "top": null,
            "visibility": null,
            "width": null
          }
        },
        "94ba9fbbbb1c4681a76dd415f9af89c1": {
          "model_module": "@jupyter-widgets/controls",
          "model_name": "DescriptionStyleModel",
          "model_module_version": "1.5.0",
          "state": {
            "_model_module": "@jupyter-widgets/controls",
            "_model_module_version": "1.5.0",
            "_model_name": "DescriptionStyleModel",
            "_view_count": null,
            "_view_module": "@jupyter-widgets/base",
            "_view_module_version": "1.2.0",
            "_view_name": "StyleView",
            "description_width": ""
          }
        },
        "465f9cdfee2c4b10a2855697539852b3": {
          "model_module": "@jupyter-widgets/base",
          "model_name": "LayoutModel",
          "model_module_version": "1.2.0",
          "state": {
            "_model_module": "@jupyter-widgets/base",
            "_model_module_version": "1.2.0",
            "_model_name": "LayoutModel",
            "_view_count": null,
            "_view_module": "@jupyter-widgets/base",
            "_view_module_version": "1.2.0",
            "_view_name": "LayoutView",
            "align_content": null,
            "align_items": null,
            "align_self": null,
            "border": null,
            "bottom": null,
            "display": null,
            "flex": null,
            "flex_flow": null,
            "grid_area": null,
            "grid_auto_columns": null,
            "grid_auto_flow": null,
            "grid_auto_rows": null,
            "grid_column": null,
            "grid_gap": null,
            "grid_row": null,
            "grid_template_areas": null,
            "grid_template_columns": null,
            "grid_template_rows": null,
            "height": null,
            "justify_content": null,
            "justify_items": null,
            "left": null,
            "margin": null,
            "max_height": null,
            "max_width": null,
            "min_height": null,
            "min_width": null,
            "object_fit": null,
            "object_position": null,
            "order": null,
            "overflow": null,
            "overflow_x": null,
            "overflow_y": null,
            "padding": null,
            "right": null,
            "top": null,
            "visibility": null,
            "width": null
          }
        },
        "01629cb85ce44f609a03b1fe634c6d2b": {
          "model_module": "@jupyter-widgets/controls",
          "model_name": "ProgressStyleModel",
          "model_module_version": "1.5.0",
          "state": {
            "_model_module": "@jupyter-widgets/controls",
            "_model_module_version": "1.5.0",
            "_model_name": "ProgressStyleModel",
            "_view_count": null,
            "_view_module": "@jupyter-widgets/base",
            "_view_module_version": "1.2.0",
            "_view_name": "StyleView",
            "bar_color": null,
            "description_width": ""
          }
        },
        "42705d0bfe6f454ab853155e89c36bd8": {
          "model_module": "@jupyter-widgets/base",
          "model_name": "LayoutModel",
          "model_module_version": "1.2.0",
          "state": {
            "_model_module": "@jupyter-widgets/base",
            "_model_module_version": "1.2.0",
            "_model_name": "LayoutModel",
            "_view_count": null,
            "_view_module": "@jupyter-widgets/base",
            "_view_module_version": "1.2.0",
            "_view_name": "LayoutView",
            "align_content": null,
            "align_items": null,
            "align_self": null,
            "border": null,
            "bottom": null,
            "display": null,
            "flex": null,
            "flex_flow": null,
            "grid_area": null,
            "grid_auto_columns": null,
            "grid_auto_flow": null,
            "grid_auto_rows": null,
            "grid_column": null,
            "grid_gap": null,
            "grid_row": null,
            "grid_template_areas": null,
            "grid_template_columns": null,
            "grid_template_rows": null,
            "height": null,
            "justify_content": null,
            "justify_items": null,
            "left": null,
            "margin": null,
            "max_height": null,
            "max_width": null,
            "min_height": null,
            "min_width": null,
            "object_fit": null,
            "object_position": null,
            "order": null,
            "overflow": null,
            "overflow_x": null,
            "overflow_y": null,
            "padding": null,
            "right": null,
            "top": null,
            "visibility": null,
            "width": null
          }
        },
        "ff528f521c5c4a6d8108a0d3c98a8180": {
          "model_module": "@jupyter-widgets/controls",
          "model_name": "DescriptionStyleModel",
          "model_module_version": "1.5.0",
          "state": {
            "_model_module": "@jupyter-widgets/controls",
            "_model_module_version": "1.5.0",
            "_model_name": "DescriptionStyleModel",
            "_view_count": null,
            "_view_module": "@jupyter-widgets/base",
            "_view_module_version": "1.2.0",
            "_view_name": "StyleView",
            "description_width": ""
          }
        },
        "4f4cb4f51b1c4aeeb8e1c78d1a944d1f": {
          "model_module": "@jupyter-widgets/controls",
          "model_name": "VBoxModel",
          "model_module_version": "1.5.0",
          "state": {
            "_dom_classes": [
              "widget-interact"
            ],
            "_model_module": "@jupyter-widgets/controls",
            "_model_module_version": "1.5.0",
            "_model_name": "VBoxModel",
            "_view_count": null,
            "_view_module": "@jupyter-widgets/controls",
            "_view_module_version": "1.5.0",
            "_view_name": "VBoxView",
            "box_style": "",
            "children": [
              "IPY_MODEL_0fb9f52a10804d57ace5fe11cbeccf46",
              "IPY_MODEL_1e75ed4aecd8474db34c5b8dfce4832c"
            ],
            "layout": "IPY_MODEL_ebcca5999251499fbbc25ca8e4a8837e"
          }
        },
        "0fb9f52a10804d57ace5fe11cbeccf46": {
          "model_module": "@jupyter-widgets/controls",
          "model_name": "ToggleButtonsModel",
          "model_module_version": "1.5.0",
          "state": {
            "_dom_classes": [],
            "_model_module": "@jupyter-widgets/controls",
            "_model_module_version": "1.5.0",
            "_model_name": "ToggleButtonsModel",
            "_options_labels": [
              "Pipeline Plot",
              "Hyperparameters",
              "AUC",
              "Confusion Matrix",
              "Threshold",
              "Precision Recall",
              "Prediction Error",
              "Class Report",
              "Feature Selection",
              "Learning Curve",
              "Manifold Learning",
              "Calibration Curve",
              "Validation Curve",
              "Dimensions",
              "Feature Importance",
              "Feature Importance (All)",
              "Decision Boundary",
              "Lift Chart",
              "Gain Chart",
              "Decision Tree",
              "KS Statistic Plot"
            ],
            "_view_count": null,
            "_view_module": "@jupyter-widgets/controls",
            "_view_module_version": "1.5.0",
            "_view_name": "ToggleButtonsView",
            "button_style": "",
            "description": "Plot Type:",
            "description_tooltip": null,
            "disabled": false,
            "icons": [
              ""
            ],
            "index": 0,
            "layout": "IPY_MODEL_ad7f6edee8fb498bab77789a94f13b63",
            "style": "IPY_MODEL_c58c45484157442aaa477187d9cb20aa",
            "tooltips": []
          }
        },
        "1e75ed4aecd8474db34c5b8dfce4832c": {
          "model_module": "@jupyter-widgets/output",
          "model_name": "OutputModel",
          "model_module_version": "1.0.0",
          "state": {
            "_dom_classes": [],
            "_model_module": "@jupyter-widgets/output",
            "_model_module_version": "1.0.0",
            "_model_name": "OutputModel",
            "_view_count": null,
            "_view_module": "@jupyter-widgets/output",
            "_view_module_version": "1.0.0",
            "_view_name": "OutputView",
            "layout": "IPY_MODEL_77f824d707cf4c14aeef7181c68ed0e1",
            "msg_id": "",
            "outputs": [
              {
                "output_type": "display_data",
                "data": {
                  "text/plain": "<Figure size 1700x600 with 1 Axes>",
                  "image/png": "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\n"
                },
                "metadata": {}
              }
            ]
          }
        },
        "ebcca5999251499fbbc25ca8e4a8837e": {
          "model_module": "@jupyter-widgets/base",
          "model_name": "LayoutModel",
          "model_module_version": "1.2.0",
          "state": {
            "_model_module": "@jupyter-widgets/base",
            "_model_module_version": "1.2.0",
            "_model_name": "LayoutModel",
            "_view_count": null,
            "_view_module": "@jupyter-widgets/base",
            "_view_module_version": "1.2.0",
            "_view_name": "LayoutView",
            "align_content": null,
            "align_items": null,
            "align_self": null,
            "border": null,
            "bottom": null,
            "display": null,
            "flex": null,
            "flex_flow": null,
            "grid_area": null,
            "grid_auto_columns": null,
            "grid_auto_flow": null,
            "grid_auto_rows": null,
            "grid_column": null,
            "grid_gap": null,
            "grid_row": null,
            "grid_template_areas": null,
            "grid_template_columns": null,
            "grid_template_rows": null,
            "height": null,
            "justify_content": null,
            "justify_items": null,
            "left": null,
            "margin": null,
            "max_height": null,
            "max_width": null,
            "min_height": null,
            "min_width": null,
            "object_fit": null,
            "object_position": null,
            "order": null,
            "overflow": null,
            "overflow_x": null,
            "overflow_y": null,
            "padding": null,
            "right": null,
            "top": null,
            "visibility": null,
            "width": null
          }
        },
        "ad7f6edee8fb498bab77789a94f13b63": {
          "model_module": "@jupyter-widgets/base",
          "model_name": "LayoutModel",
          "model_module_version": "1.2.0",
          "state": {
            "_model_module": "@jupyter-widgets/base",
            "_model_module_version": "1.2.0",
            "_model_name": "LayoutModel",
            "_view_count": null,
            "_view_module": "@jupyter-widgets/base",
            "_view_module_version": "1.2.0",
            "_view_name": "LayoutView",
            "align_content": null,
            "align_items": null,
            "align_self": null,
            "border": null,
            "bottom": null,
            "display": null,
            "flex": null,
            "flex_flow": null,
            "grid_area": null,
            "grid_auto_columns": null,
            "grid_auto_flow": null,
            "grid_auto_rows": null,
            "grid_column": null,
            "grid_gap": null,
            "grid_row": null,
            "grid_template_areas": null,
            "grid_template_columns": null,
            "grid_template_rows": null,
            "height": null,
            "justify_content": null,
            "justify_items": null,
            "left": null,
            "margin": null,
            "max_height": null,
            "max_width": null,
            "min_height": null,
            "min_width": null,
            "object_fit": null,
            "object_position": null,
            "order": null,
            "overflow": null,
            "overflow_x": null,
            "overflow_y": null,
            "padding": null,
            "right": null,
            "top": null,
            "visibility": null,
            "width": null
          }
        },
        "c58c45484157442aaa477187d9cb20aa": {
          "model_module": "@jupyter-widgets/controls",
          "model_name": "ToggleButtonsStyleModel",
          "model_module_version": "1.5.0",
          "state": {
            "_model_module": "@jupyter-widgets/controls",
            "_model_module_version": "1.5.0",
            "_model_name": "ToggleButtonsStyleModel",
            "_view_count": null,
            "_view_module": "@jupyter-widgets/base",
            "_view_module_version": "1.2.0",
            "_view_name": "StyleView",
            "button_width": "",
            "description_width": "",
            "font_weight": ""
          }
        },
        "77f824d707cf4c14aeef7181c68ed0e1": {
          "model_module": "@jupyter-widgets/base",
          "model_name": "LayoutModel",
          "model_module_version": "1.2.0",
          "state": {
            "_model_module": "@jupyter-widgets/base",
            "_model_module_version": "1.2.0",
            "_model_name": "LayoutModel",
            "_view_count": null,
            "_view_module": "@jupyter-widgets/base",
            "_view_module_version": "1.2.0",
            "_view_name": "LayoutView",
            "align_content": null,
            "align_items": null,
            "align_self": null,
            "border": null,
            "bottom": null,
            "display": null,
            "flex": null,
            "flex_flow": null,
            "grid_area": null,
            "grid_auto_columns": null,
            "grid_auto_flow": null,
            "grid_auto_rows": null,
            "grid_column": null,
            "grid_gap": null,
            "grid_row": null,
            "grid_template_areas": null,
            "grid_template_columns": null,
            "grid_template_rows": null,
            "height": null,
            "justify_content": null,
            "justify_items": null,
            "left": null,
            "margin": null,
            "max_height": null,
            "max_width": null,
            "min_height": null,
            "min_width": null,
            "object_fit": null,
            "object_position": null,
            "order": null,
            "overflow": null,
            "overflow_x": null,
            "overflow_y": null,
            "padding": null,
            "right": null,
            "top": null,
            "visibility": null,
            "width": null
          }
        }
      }
    }
  },
  "cells": [
    {
      "cell_type": "code",
      "execution_count": null,
      "metadata": {
        "colab": {
          "base_uri": "https://localhost:8080/"
        },
        "id": "YnFZqgL_fGZ0",
        "outputId": "657ec39f-9d7f-4f11-862e-60d203c2eae1"
      },
      "outputs": [
        {
          "output_type": "stream",
          "name": "stdout",
          "text": [
            "Drive already mounted at /content/drive; to attempt to forcibly remount, call drive.mount(\"/content/drive\", force_remount=True).\n"
          ]
        }
      ],
      "source": [
        "from google.colab import drive\n",
        "drive.mount(\"/content/drive\")"
      ]
    },
    {
      "cell_type": "code",
      "source": [
        "pip install pycaret"
      ],
      "metadata": {
        "colab": {
          "base_uri": "https://localhost:8080/"
        },
        "id": "nMSRMOgiMQBC",
        "outputId": "d323f2f0-3c78-44d6-e5db-5cf776b13d63"
      },
      "execution_count": null,
      "outputs": [
        {
          "output_type": "stream",
          "name": "stdout",
          "text": [
            "Requirement already satisfied: pycaret in /usr/local/lib/python3.10/dist-packages (3.3.2)\n",
            "Requirement already satisfied: ipython>=5.5.0 in /usr/local/lib/python3.10/dist-packages (from pycaret) (7.34.0)\n",
            "Requirement already satisfied: ipywidgets>=7.6.5 in /usr/local/lib/python3.10/dist-packages (from pycaret) (7.7.1)\n",
            "Requirement already satisfied: tqdm>=4.62.0 in /usr/local/lib/python3.10/dist-packages (from pycaret) (4.66.5)\n",
            "Requirement already satisfied: numpy<1.27,>=1.21 in /usr/local/lib/python3.10/dist-packages (from pycaret) (1.26.4)\n",
            "Requirement already satisfied: pandas<2.2.0 in /usr/local/lib/python3.10/dist-packages (from pycaret) (2.1.4)\n",
            "Requirement already satisfied: jinja2>=3 in /usr/local/lib/python3.10/dist-packages (from pycaret) (3.1.4)\n",
            "Requirement already satisfied: scipy<=1.11.4,>=1.6.1 in /usr/local/lib/python3.10/dist-packages (from pycaret) (1.11.4)\n",
            "Requirement already satisfied: joblib<1.4,>=1.2.0 in /usr/local/lib/python3.10/dist-packages (from pycaret) (1.3.2)\n",
            "Requirement already satisfied: scikit-learn>1.4.0 in /usr/local/lib/python3.10/dist-packages (from pycaret) (1.4.2)\n",
            "Requirement already satisfied: pyod>=1.1.3 in /usr/local/lib/python3.10/dist-packages (from pycaret) (2.0.2)\n",
            "Requirement already satisfied: imbalanced-learn>=0.12.0 in /usr/local/lib/python3.10/dist-packages (from pycaret) (0.12.4)\n",
            "Requirement already satisfied: category-encoders>=2.4.0 in /usr/local/lib/python3.10/dist-packages (from pycaret) (2.6.4)\n",
            "Requirement already satisfied: lightgbm>=3.0.0 in /usr/local/lib/python3.10/dist-packages (from pycaret) (4.5.0)\n",
            "Requirement already satisfied: numba>=0.55.0 in /usr/local/lib/python3.10/dist-packages (from pycaret) (0.60.0)\n",
            "Requirement already satisfied: requests>=2.27.1 in /usr/local/lib/python3.10/dist-packages (from pycaret) (2.32.3)\n",
            "Requirement already satisfied: psutil>=5.9.0 in /usr/local/lib/python3.10/dist-packages (from pycaret) (5.9.5)\n",
            "Requirement already satisfied: markupsafe>=2.0.1 in /usr/local/lib/python3.10/dist-packages (from pycaret) (3.0.1)\n",
            "Requirement already satisfied: importlib-metadata>=4.12.0 in /usr/local/lib/python3.10/dist-packages (from pycaret) (8.5.0)\n",
            "Requirement already satisfied: nbformat>=4.2.0 in /usr/local/lib/python3.10/dist-packages (from pycaret) (5.10.4)\n",
            "Requirement already satisfied: cloudpickle in /usr/local/lib/python3.10/dist-packages (from pycaret) (2.2.1)\n",
            "Requirement already satisfied: deprecation>=2.1.0 in /usr/local/lib/python3.10/dist-packages (from pycaret) (2.1.0)\n",
            "Requirement already satisfied: xxhash in /usr/local/lib/python3.10/dist-packages (from pycaret) (3.5.0)\n",
            "Requirement already satisfied: matplotlib<3.8.0 in /usr/local/lib/python3.10/dist-packages (from pycaret) (3.7.1)\n",
            "Requirement already satisfied: scikit-plot>=0.3.7 in /usr/local/lib/python3.10/dist-packages (from pycaret) (0.3.7)\n",
            "Requirement already satisfied: yellowbrick>=1.4 in /usr/local/lib/python3.10/dist-packages (from pycaret) (1.5)\n",
            "Requirement already satisfied: plotly>=5.14.0 in /usr/local/lib/python3.10/dist-packages (from pycaret) (5.24.1)\n",
            "Requirement already satisfied: kaleido>=0.2.1 in /usr/local/lib/python3.10/dist-packages (from pycaret) (0.2.1)\n",
            "Requirement already satisfied: schemdraw==0.15 in /usr/local/lib/python3.10/dist-packages (from pycaret) (0.15)\n",
            "Requirement already satisfied: plotly-resampler>=0.8.3.1 in /usr/local/lib/python3.10/dist-packages (from pycaret) (0.10.0)\n",
            "Requirement already satisfied: statsmodels>=0.12.1 in /usr/local/lib/python3.10/dist-packages (from pycaret) (0.14.4)\n",
            "Requirement already satisfied: sktime==0.26.0 in /usr/local/lib/python3.10/dist-packages (from pycaret) (0.26.0)\n",
            "Requirement already satisfied: tbats>=1.1.3 in /usr/local/lib/python3.10/dist-packages (from pycaret) (1.1.3)\n",
            "Requirement already satisfied: pmdarima>=2.0.4 in /usr/local/lib/python3.10/dist-packages (from pycaret) (2.0.4)\n",
            "Requirement already satisfied: wurlitzer in /usr/local/lib/python3.10/dist-packages (from pycaret) (3.1.1)\n",
            "Requirement already satisfied: packaging in /usr/local/lib/python3.10/dist-packages (from sktime==0.26.0->pycaret) (24.1)\n",
            "Requirement already satisfied: scikit-base<0.8.0 in /usr/local/lib/python3.10/dist-packages (from sktime==0.26.0->pycaret) (0.7.8)\n",
            "Requirement already satisfied: patsy>=0.5.1 in /usr/local/lib/python3.10/dist-packages (from category-encoders>=2.4.0->pycaret) (0.5.6)\n",
            "Requirement already satisfied: threadpoolctl>=2.0.0 in /usr/local/lib/python3.10/dist-packages (from imbalanced-learn>=0.12.0->pycaret) (3.5.0)\n",
            "Requirement already satisfied: zipp>=3.20 in /usr/local/lib/python3.10/dist-packages (from importlib-metadata>=4.12.0->pycaret) (3.20.2)\n",
            "Requirement already satisfied: setuptools>=18.5 in /usr/local/lib/python3.10/dist-packages (from ipython>=5.5.0->pycaret) (71.0.4)\n",
            "Requirement already satisfied: jedi>=0.16 in /usr/local/lib/python3.10/dist-packages (from ipython>=5.5.0->pycaret) (0.19.1)\n",
            "Requirement already satisfied: decorator in /usr/local/lib/python3.10/dist-packages (from ipython>=5.5.0->pycaret) (4.4.2)\n",
            "Requirement already satisfied: pickleshare in /usr/local/lib/python3.10/dist-packages (from ipython>=5.5.0->pycaret) (0.7.5)\n",
            "Requirement already satisfied: traitlets>=4.2 in /usr/local/lib/python3.10/dist-packages (from ipython>=5.5.0->pycaret) (5.7.1)\n",
            "Requirement already satisfied: prompt-toolkit!=3.0.0,!=3.0.1,<3.1.0,>=2.0.0 in /usr/local/lib/python3.10/dist-packages (from ipython>=5.5.0->pycaret) (3.0.48)\n",
            "Requirement already satisfied: pygments in /usr/local/lib/python3.10/dist-packages (from ipython>=5.5.0->pycaret) (2.18.0)\n",
            "Requirement already satisfied: backcall in /usr/local/lib/python3.10/dist-packages (from ipython>=5.5.0->pycaret) (0.2.0)\n",
            "Requirement already satisfied: matplotlib-inline in /usr/local/lib/python3.10/dist-packages (from ipython>=5.5.0->pycaret) (0.1.7)\n",
            "Requirement already satisfied: pexpect>4.3 in /usr/local/lib/python3.10/dist-packages (from ipython>=5.5.0->pycaret) (4.9.0)\n",
            "Requirement already satisfied: ipykernel>=4.5.1 in /usr/local/lib/python3.10/dist-packages (from ipywidgets>=7.6.5->pycaret) (5.5.6)\n",
            "Requirement already satisfied: ipython-genutils~=0.2.0 in /usr/local/lib/python3.10/dist-packages (from ipywidgets>=7.6.5->pycaret) (0.2.0)\n",
            "Requirement already satisfied: widgetsnbextension~=3.6.0 in /usr/local/lib/python3.10/dist-packages (from ipywidgets>=7.6.5->pycaret) (3.6.9)\n",
            "Requirement already satisfied: jupyterlab-widgets>=1.0.0 in /usr/local/lib/python3.10/dist-packages (from ipywidgets>=7.6.5->pycaret) (3.0.13)\n",
            "Requirement already satisfied: contourpy>=1.0.1 in /usr/local/lib/python3.10/dist-packages (from matplotlib<3.8.0->pycaret) (1.3.0)\n",
            "Requirement already satisfied: cycler>=0.10 in /usr/local/lib/python3.10/dist-packages (from matplotlib<3.8.0->pycaret) (0.12.1)\n",
            "Requirement already satisfied: fonttools>=4.22.0 in /usr/local/lib/python3.10/dist-packages (from matplotlib<3.8.0->pycaret) (4.54.1)\n",
            "Requirement already satisfied: kiwisolver>=1.0.1 in /usr/local/lib/python3.10/dist-packages (from matplotlib<3.8.0->pycaret) (1.4.7)\n",
            "Requirement already satisfied: pillow>=6.2.0 in /usr/local/lib/python3.10/dist-packages (from matplotlib<3.8.0->pycaret) (10.4.0)\n",
            "Requirement already satisfied: pyparsing>=2.3.1 in /usr/local/lib/python3.10/dist-packages (from matplotlib<3.8.0->pycaret) (3.1.4)\n",
            "Requirement already satisfied: python-dateutil>=2.7 in /usr/local/lib/python3.10/dist-packages (from matplotlib<3.8.0->pycaret) (2.8.2)\n",
            "Requirement already satisfied: fastjsonschema>=2.15 in /usr/local/lib/python3.10/dist-packages (from nbformat>=4.2.0->pycaret) (2.20.0)\n",
            "Requirement already satisfied: jsonschema>=2.6 in /usr/local/lib/python3.10/dist-packages (from nbformat>=4.2.0->pycaret) (4.23.0)\n",
            "Requirement already satisfied: jupyter-core!=5.0.*,>=4.12 in /usr/local/lib/python3.10/dist-packages (from nbformat>=4.2.0->pycaret) (5.7.2)\n",
            "Requirement already satisfied: llvmlite<0.44,>=0.43.0dev0 in /usr/local/lib/python3.10/dist-packages (from numba>=0.55.0->pycaret) (0.43.0)\n",
            "Requirement already satisfied: pytz>=2020.1 in /usr/local/lib/python3.10/dist-packages (from pandas<2.2.0->pycaret) (2024.2)\n",
            "Requirement already satisfied: tzdata>=2022.1 in /usr/local/lib/python3.10/dist-packages (from pandas<2.2.0->pycaret) (2024.2)\n",
            "Requirement already satisfied: tenacity>=6.2.0 in /usr/local/lib/python3.10/dist-packages (from plotly>=5.14.0->pycaret) (9.0.0)\n",
            "Requirement already satisfied: dash>=2.9.0 in /usr/local/lib/python3.10/dist-packages (from plotly-resampler>=0.8.3.1->pycaret) (2.18.1)\n",
            "Requirement already satisfied: orjson<4.0.0,>=3.8.0 in /usr/local/lib/python3.10/dist-packages (from plotly-resampler>=0.8.3.1->pycaret) (3.10.7)\n",
            "Requirement already satisfied: tsdownsample>=0.1.3 in /usr/local/lib/python3.10/dist-packages (from plotly-resampler>=0.8.3.1->pycaret) (0.1.3)\n",
            "Requirement already satisfied: Cython!=0.29.18,!=0.29.31,>=0.29 in /usr/local/lib/python3.10/dist-packages (from pmdarima>=2.0.4->pycaret) (3.0.11)\n",
            "Requirement already satisfied: urllib3 in /usr/local/lib/python3.10/dist-packages (from pmdarima>=2.0.4->pycaret) (2.2.3)\n",
            "Requirement already satisfied: charset-normalizer<4,>=2 in /usr/local/lib/python3.10/dist-packages (from requests>=2.27.1->pycaret) (3.4.0)\n",
            "Requirement already satisfied: idna<4,>=2.5 in /usr/local/lib/python3.10/dist-packages (from requests>=2.27.1->pycaret) (3.10)\n",
            "Requirement already satisfied: certifi>=2017.4.17 in /usr/local/lib/python3.10/dist-packages (from requests>=2.27.1->pycaret) (2024.8.30)\n",
            "Requirement already satisfied: Flask<3.1,>=1.0.4 in /usr/local/lib/python3.10/dist-packages (from dash>=2.9.0->plotly-resampler>=0.8.3.1->pycaret) (2.2.5)\n",
            "Requirement already satisfied: Werkzeug<3.1 in /usr/local/lib/python3.10/dist-packages (from dash>=2.9.0->plotly-resampler>=0.8.3.1->pycaret) (3.0.4)\n",
            "Requirement already satisfied: dash-html-components==2.0.0 in /usr/local/lib/python3.10/dist-packages (from dash>=2.9.0->plotly-resampler>=0.8.3.1->pycaret) (2.0.0)\n",
            "Requirement already satisfied: dash-core-components==2.0.0 in /usr/local/lib/python3.10/dist-packages (from dash>=2.9.0->plotly-resampler>=0.8.3.1->pycaret) (2.0.0)\n",
            "Requirement already satisfied: dash-table==5.0.0 in /usr/local/lib/python3.10/dist-packages (from dash>=2.9.0->plotly-resampler>=0.8.3.1->pycaret) (5.0.0)\n",
            "Requirement already satisfied: typing-extensions>=4.1.1 in /usr/local/lib/python3.10/dist-packages (from dash>=2.9.0->plotly-resampler>=0.8.3.1->pycaret) (4.12.2)\n",
            "Requirement already satisfied: retrying in /usr/local/lib/python3.10/dist-packages (from dash>=2.9.0->plotly-resampler>=0.8.3.1->pycaret) (1.3.4)\n",
            "Requirement already satisfied: nest-asyncio in /usr/local/lib/python3.10/dist-packages (from dash>=2.9.0->plotly-resampler>=0.8.3.1->pycaret) (1.6.0)\n",
            "Requirement already satisfied: jupyter-client in /usr/local/lib/python3.10/dist-packages (from ipykernel>=4.5.1->ipywidgets>=7.6.5->pycaret) (6.1.12)\n",
            "Requirement already satisfied: tornado>=4.2 in /usr/local/lib/python3.10/dist-packages (from ipykernel>=4.5.1->ipywidgets>=7.6.5->pycaret) (6.3.3)\n",
            "Requirement already satisfied: parso<0.9.0,>=0.8.3 in /usr/local/lib/python3.10/dist-packages (from jedi>=0.16->ipython>=5.5.0->pycaret) (0.8.4)\n",
            "Requirement already satisfied: attrs>=22.2.0 in /usr/local/lib/python3.10/dist-packages (from jsonschema>=2.6->nbformat>=4.2.0->pycaret) (24.2.0)\n",
            "Requirement already satisfied: jsonschema-specifications>=2023.03.6 in /usr/local/lib/python3.10/dist-packages (from jsonschema>=2.6->nbformat>=4.2.0->pycaret) (2024.10.1)\n",
            "Requirement already satisfied: referencing>=0.28.4 in /usr/local/lib/python3.10/dist-packages (from jsonschema>=2.6->nbformat>=4.2.0->pycaret) (0.35.1)\n",
            "Requirement already satisfied: rpds-py>=0.7.1 in /usr/local/lib/python3.10/dist-packages (from jsonschema>=2.6->nbformat>=4.2.0->pycaret) (0.20.0)\n",
            "Requirement already satisfied: platformdirs>=2.5 in /usr/local/lib/python3.10/dist-packages (from jupyter-core!=5.0.*,>=4.12->nbformat>=4.2.0->pycaret) (4.3.6)\n",
            "Requirement already satisfied: six in /usr/local/lib/python3.10/dist-packages (from patsy>=0.5.1->category-encoders>=2.4.0->pycaret) (1.16.0)\n",
            "Requirement already satisfied: ptyprocess>=0.5 in /usr/local/lib/python3.10/dist-packages (from pexpect>4.3->ipython>=5.5.0->pycaret) (0.7.0)\n",
            "Requirement already satisfied: wcwidth in /usr/local/lib/python3.10/dist-packages (from prompt-toolkit!=3.0.0,!=3.0.1,<3.1.0,>=2.0.0->ipython>=5.5.0->pycaret) (0.2.13)\n",
            "Requirement already satisfied: notebook>=4.4.1 in /usr/local/lib/python3.10/dist-packages (from widgetsnbextension~=3.6.0->ipywidgets>=7.6.5->pycaret) (6.5.5)\n",
            "Requirement already satisfied: itsdangerous>=2.0 in /usr/local/lib/python3.10/dist-packages (from Flask<3.1,>=1.0.4->dash>=2.9.0->plotly-resampler>=0.8.3.1->pycaret) (2.2.0)\n",
            "Requirement already satisfied: click>=8.0 in /usr/local/lib/python3.10/dist-packages (from Flask<3.1,>=1.0.4->dash>=2.9.0->plotly-resampler>=0.8.3.1->pycaret) (8.1.7)\n",
            "Requirement already satisfied: pyzmq<25,>=17 in /usr/local/lib/python3.10/dist-packages (from notebook>=4.4.1->widgetsnbextension~=3.6.0->ipywidgets>=7.6.5->pycaret) (24.0.1)\n",
            "Requirement already satisfied: argon2-cffi in /usr/local/lib/python3.10/dist-packages (from notebook>=4.4.1->widgetsnbextension~=3.6.0->ipywidgets>=7.6.5->pycaret) (23.1.0)\n",
            "Requirement already satisfied: nbconvert>=5 in /usr/local/lib/python3.10/dist-packages (from notebook>=4.4.1->widgetsnbextension~=3.6.0->ipywidgets>=7.6.5->pycaret) (6.5.4)\n",
            "Requirement already satisfied: Send2Trash>=1.8.0 in /usr/local/lib/python3.10/dist-packages (from notebook>=4.4.1->widgetsnbextension~=3.6.0->ipywidgets>=7.6.5->pycaret) (1.8.3)\n",
            "Requirement already satisfied: terminado>=0.8.3 in /usr/local/lib/python3.10/dist-packages (from notebook>=4.4.1->widgetsnbextension~=3.6.0->ipywidgets>=7.6.5->pycaret) (0.18.1)\n",
            "Requirement already satisfied: prometheus-client in /usr/local/lib/python3.10/dist-packages (from notebook>=4.4.1->widgetsnbextension~=3.6.0->ipywidgets>=7.6.5->pycaret) (0.21.0)\n",
            "Requirement already satisfied: nbclassic>=0.4.7 in /usr/local/lib/python3.10/dist-packages (from notebook>=4.4.1->widgetsnbextension~=3.6.0->ipywidgets>=7.6.5->pycaret) (1.1.0)\n",
            "Requirement already satisfied: notebook-shim>=0.2.3 in /usr/local/lib/python3.10/dist-packages (from nbclassic>=0.4.7->notebook>=4.4.1->widgetsnbextension~=3.6.0->ipywidgets>=7.6.5->pycaret) (0.2.4)\n",
            "Requirement already satisfied: lxml in /usr/local/lib/python3.10/dist-packages (from nbconvert>=5->notebook>=4.4.1->widgetsnbextension~=3.6.0->ipywidgets>=7.6.5->pycaret) (4.9.4)\n",
            "Requirement already satisfied: beautifulsoup4 in /usr/local/lib/python3.10/dist-packages (from nbconvert>=5->notebook>=4.4.1->widgetsnbextension~=3.6.0->ipywidgets>=7.6.5->pycaret) (4.12.3)\n",
            "Requirement already satisfied: bleach in /usr/local/lib/python3.10/dist-packages (from nbconvert>=5->notebook>=4.4.1->widgetsnbextension~=3.6.0->ipywidgets>=7.6.5->pycaret) (6.1.0)\n",
            "Requirement already satisfied: defusedxml in /usr/local/lib/python3.10/dist-packages (from nbconvert>=5->notebook>=4.4.1->widgetsnbextension~=3.6.0->ipywidgets>=7.6.5->pycaret) (0.7.1)\n",
            "Requirement already satisfied: entrypoints>=0.2.2 in /usr/local/lib/python3.10/dist-packages (from nbconvert>=5->notebook>=4.4.1->widgetsnbextension~=3.6.0->ipywidgets>=7.6.5->pycaret) (0.4)\n",
            "Requirement already satisfied: jupyterlab-pygments in /usr/local/lib/python3.10/dist-packages (from nbconvert>=5->notebook>=4.4.1->widgetsnbextension~=3.6.0->ipywidgets>=7.6.5->pycaret) (0.3.0)\n",
            "Requirement already satisfied: mistune<2,>=0.8.1 in /usr/local/lib/python3.10/dist-packages (from nbconvert>=5->notebook>=4.4.1->widgetsnbextension~=3.6.0->ipywidgets>=7.6.5->pycaret) (0.8.4)\n",
            "Requirement already satisfied: nbclient>=0.5.0 in /usr/local/lib/python3.10/dist-packages (from nbconvert>=5->notebook>=4.4.1->widgetsnbextension~=3.6.0->ipywidgets>=7.6.5->pycaret) (0.10.0)\n",
            "Requirement already satisfied: pandocfilters>=1.4.1 in /usr/local/lib/python3.10/dist-packages (from nbconvert>=5->notebook>=4.4.1->widgetsnbextension~=3.6.0->ipywidgets>=7.6.5->pycaret) (1.5.1)\n",
            "Requirement already satisfied: tinycss2 in /usr/local/lib/python3.10/dist-packages (from nbconvert>=5->notebook>=4.4.1->widgetsnbextension~=3.6.0->ipywidgets>=7.6.5->pycaret) (1.3.0)\n",
            "Requirement already satisfied: argon2-cffi-bindings in /usr/local/lib/python3.10/dist-packages (from argon2-cffi->notebook>=4.4.1->widgetsnbextension~=3.6.0->ipywidgets>=7.6.5->pycaret) (21.2.0)\n",
            "Requirement already satisfied: jupyter-server<3,>=1.8 in /usr/local/lib/python3.10/dist-packages (from notebook-shim>=0.2.3->nbclassic>=0.4.7->notebook>=4.4.1->widgetsnbextension~=3.6.0->ipywidgets>=7.6.5->pycaret) (1.24.0)\n",
            "Requirement already satisfied: cffi>=1.0.1 in /usr/local/lib/python3.10/dist-packages (from argon2-cffi-bindings->argon2-cffi->notebook>=4.4.1->widgetsnbextension~=3.6.0->ipywidgets>=7.6.5->pycaret) (1.17.1)\n",
            "Requirement already satisfied: soupsieve>1.2 in /usr/local/lib/python3.10/dist-packages (from beautifulsoup4->nbconvert>=5->notebook>=4.4.1->widgetsnbextension~=3.6.0->ipywidgets>=7.6.5->pycaret) (2.6)\n",
            "Requirement already satisfied: webencodings in /usr/local/lib/python3.10/dist-packages (from bleach->nbconvert>=5->notebook>=4.4.1->widgetsnbextension~=3.6.0->ipywidgets>=7.6.5->pycaret) (0.5.1)\n",
            "Requirement already satisfied: pycparser in /usr/local/lib/python3.10/dist-packages (from cffi>=1.0.1->argon2-cffi-bindings->argon2-cffi->notebook>=4.4.1->widgetsnbextension~=3.6.0->ipywidgets>=7.6.5->pycaret) (2.22)\n",
            "Requirement already satisfied: anyio<4,>=3.1.0 in /usr/local/lib/python3.10/dist-packages (from jupyter-server<3,>=1.8->notebook-shim>=0.2.3->nbclassic>=0.4.7->notebook>=4.4.1->widgetsnbextension~=3.6.0->ipywidgets>=7.6.5->pycaret) (3.7.1)\n",
            "Requirement already satisfied: websocket-client in /usr/local/lib/python3.10/dist-packages (from jupyter-server<3,>=1.8->notebook-shim>=0.2.3->nbclassic>=0.4.7->notebook>=4.4.1->widgetsnbextension~=3.6.0->ipywidgets>=7.6.5->pycaret) (1.8.0)\n",
            "Requirement already satisfied: sniffio>=1.1 in /usr/local/lib/python3.10/dist-packages (from anyio<4,>=3.1.0->jupyter-server<3,>=1.8->notebook-shim>=0.2.3->nbclassic>=0.4.7->notebook>=4.4.1->widgetsnbextension~=3.6.0->ipywidgets>=7.6.5->pycaret) (1.3.1)\n",
            "Requirement already satisfied: exceptiongroup in /usr/local/lib/python3.10/dist-packages (from anyio<4,>=3.1.0->jupyter-server<3,>=1.8->notebook-shim>=0.2.3->nbclassic>=0.4.7->notebook>=4.4.1->widgetsnbextension~=3.6.0->ipywidgets>=7.6.5->pycaret) (1.2.2)\n"
          ]
        }
      ]
    },
    {
      "cell_type": "markdown",
      "source": [
        "#Import libraries"
      ],
      "metadata": {
        "id": "7iT73FE7yUw6"
      }
    },
    {
      "cell_type": "code",
      "source": [
        "import numpy as np\n",
        "import pandas as pd\n",
        "import matplotlib.pyplot as plt\n",
        "import seaborn as sns\n"
      ],
      "metadata": {
        "id": "cMDnE-gmzAPQ"
      },
      "execution_count": null,
      "outputs": []
    },
    {
      "cell_type": "markdown",
      "source": [
        "#Load Dataset"
      ],
      "metadata": {
        "id": "SNAdskwxyjgH"
      }
    },
    {
      "cell_type": "code",
      "source": [
        "#Loading the dataset\n",
        "\n",
        "df = pd.read_csv(\"/content/drive/My Drive/ml_datasets/diabetes.csv\")\n",
        "print(df.shape)\n",
        "print(df.head())\n"
      ],
      "metadata": {
        "colab": {
          "base_uri": "https://localhost:8080/"
        },
        "id": "n_6FQ9P5h91R",
        "outputId": "3ddf3170-379d-48ba-a030-6494bfa4bdb1"
      },
      "execution_count": null,
      "outputs": [
        {
          "output_type": "stream",
          "name": "stdout",
          "text": [
            "(768, 9)\n",
            "   Pregnancies  Glucose  BloodPressure  SkinThickness  Insulin   BMI  \\\n",
            "0            6      148             72             35        0  33.6   \n",
            "1            1       85             66             29        0  26.6   \n",
            "2            8      183             64              0        0  23.3   \n",
            "3            1       89             66             23       94  28.1   \n",
            "4            0      137             40             35      168  43.1   \n",
            "\n",
            "   DiabetesPedigreeFunction  Age  Outcome  \n",
            "0                     0.627   50        1  \n",
            "1                     0.351   31        0  \n",
            "2                     0.672   32        1  \n",
            "3                     0.167   21        0  \n",
            "4                     2.288   33        1  \n"
          ]
        }
      ]
    },
    {
      "cell_type": "markdown",
      "source": [
        "#Dataset Info"
      ],
      "metadata": {
        "id": "bbW91p423qZm"
      }
    },
    {
      "cell_type": "code",
      "source": [
        "df.info()"
      ],
      "metadata": {
        "colab": {
          "base_uri": "https://localhost:8080/"
        },
        "id": "9OMUT8mPy042",
        "outputId": "c9b85fd2-41de-4f65-92d1-aff1e301db52"
      },
      "execution_count": null,
      "outputs": [
        {
          "output_type": "stream",
          "name": "stdout",
          "text": [
            "<class 'pandas.core.frame.DataFrame'>\n",
            "RangeIndex: 768 entries, 0 to 767\n",
            "Data columns (total 9 columns):\n",
            " #   Column                    Non-Null Count  Dtype  \n",
            "---  ------                    --------------  -----  \n",
            " 0   Pregnancies               768 non-null    int64  \n",
            " 1   Glucose                   768 non-null    int64  \n",
            " 2   BloodPressure             768 non-null    int64  \n",
            " 3   SkinThickness             768 non-null    int64  \n",
            " 4   Insulin                   768 non-null    int64  \n",
            " 5   BMI                       768 non-null    float64\n",
            " 6   DiabetesPedigreeFunction  768 non-null    float64\n",
            " 7   Age                       768 non-null    int64  \n",
            " 8   Outcome                   768 non-null    int64  \n",
            "dtypes: float64(2), int64(7)\n",
            "memory usage: 54.1 KB\n"
          ]
        }
      ]
    },
    {
      "cell_type": "markdown",
      "source": [
        "#Renaming the columns with short forms\n"
      ],
      "metadata": {
        "id": "hUNtYR4n3h9q"
      }
    },
    {
      "cell_type": "code",
      "source": [
        "\n",
        "\n",
        "\n",
        "df = df.rename(columns={'DiabetesPedigreeFunction':'DPF'})\n",
        "df = df.rename(columns={'BloodPressure':'BP'})\n",
        "df = df.rename(columns={'SkinThickness':'ST'})\n",
        "print(df.head())"
      ],
      "metadata": {
        "colab": {
          "base_uri": "https://localhost:8080/"
        },
        "id": "JSaL0Y-pieig",
        "outputId": "374f5a2a-15ef-44a0-986d-6e1d721cb8d2"
      },
      "execution_count": null,
      "outputs": [
        {
          "output_type": "stream",
          "name": "stdout",
          "text": [
            "   Pregnancies  Glucose  BP  ST  Insulin   BMI    DPF  Age  Outcome\n",
            "0            6      148  72  35        0  33.6  0.627   50        1\n",
            "1            1       85  66  29        0  26.6  0.351   31        0\n",
            "2            8      183  64   0        0  23.3  0.672   32        1\n",
            "3            1       89  66  23       94  28.1  0.167   21        0\n",
            "4            0      137  40  35      168  43.1  2.288   33        1\n"
          ]
        }
      ]
    },
    {
      "cell_type": "markdown",
      "source": [
        "#Data Filtering"
      ],
      "metadata": {
        "id": "shXeS1xI5q1Z"
      }
    },
    {
      "cell_type": "markdown",
      "source": [
        "\n",
        "#Replacing the 0 values from ['Glucose','BP','ST','Insulin','BMI'] by NaN"
      ],
      "metadata": {
        "id": "9hhOVhO131dx"
      }
    },
    {
      "cell_type": "code",
      "source": [
        "\n",
        "\n",
        "#Replacing the 0 values from ['Glucose','BP','ST','Insulin','BMI'] by NaN\n",
        "df_new = df.copy(deep=True)\n",
        "df_new[['Glucose', 'BP','ST','Insulin','BMI']] = df_new[['Glucose','BP','ST','Insulin','BMI']].replace(0,np.NaN)\n",
        "print(df_new.head())\n",
        "\n"
      ],
      "metadata": {
        "colab": {
          "base_uri": "https://localhost:8080/"
        },
        "id": "AcLz5000jvTL",
        "outputId": "c7789154-05ef-4d3f-ca1f-2ebbf02f99f7"
      },
      "execution_count": null,
      "outputs": [
        {
          "output_type": "stream",
          "name": "stdout",
          "text": [
            "   Pregnancies  Glucose    BP    ST  Insulin   BMI    DPF  Age  Outcome\n",
            "0            6    148.0  72.0  35.0      NaN  33.6  0.627   50        1\n",
            "1            1     85.0  66.0  29.0      NaN  26.6  0.351   31        0\n",
            "2            8    183.0  64.0   NaN      NaN  23.3  0.672   32        1\n",
            "3            1     89.0  66.0  23.0     94.0  28.1  0.167   21        0\n",
            "4            0    137.0  40.0  35.0    168.0  43.1  2.288   33        1\n"
          ]
        }
      ]
    },
    {
      "cell_type": "markdown",
      "source": [
        "#Replacing NaN value by mean, median, depending upon distribution"
      ],
      "metadata": {
        "id": "RvwMxpYW4JQA"
      }
    },
    {
      "cell_type": "code",
      "source": [
        "\n",
        "df_new['Glucose'].fillna(df_new['Glucose'].mean(), inplace=True)\n",
        "df_new['BP'].fillna(df_new['BP'].mean(),inplace=True)\n",
        "df_new['ST'].fillna(df_new['ST'].median(),inplace=True)\n",
        "df_new['Insulin'].fillna(df_new['Insulin'].median(),inplace=True)\n",
        "df_new['BMI'].fillna(df_new['BMI'].median(),inplace=True)\n",
        "\n",
        "print(df_new.head())"
      ],
      "metadata": {
        "colab": {
          "base_uri": "https://localhost:8080/"
        },
        "id": "vyxa1Rz73cIg",
        "outputId": "5b50963a-1183-4b6e-d9e8-ef5d85f7291e"
      },
      "execution_count": null,
      "outputs": [
        {
          "output_type": "stream",
          "name": "stdout",
          "text": [
            "   Pregnancies  Glucose    BP    ST  Insulin   BMI    DPF  Age  Outcome\n",
            "0            6    148.0  72.0  35.0    125.0  33.6  0.627   50        1\n",
            "1            1     85.0  66.0  29.0    125.0  26.6  0.351   31        0\n",
            "2            8    183.0  64.0  29.0    125.0  23.3  0.672   32        1\n",
            "3            1     89.0  66.0  23.0     94.0  28.1  0.167   21        0\n",
            "4            0    137.0  40.0  35.0    168.0  43.1  2.288   33        1\n"
          ]
        }
      ]
    },
    {
      "cell_type": "markdown",
      "source": [
        "#Diabetes Positive"
      ],
      "metadata": {
        "id": "DfLjO4aQ4623"
      }
    },
    {
      "cell_type": "code",
      "source": [
        "diabetes_positive = df_new[df_new.Outcome==1]\n",
        "diabetes_positive.head()"
      ],
      "metadata": {
        "colab": {
          "base_uri": "https://localhost:8080/",
          "height": 206
        },
        "id": "JGa20Arm0CJn",
        "outputId": "ed653089-bba2-484c-8985-e9d9fe6dbb26"
      },
      "execution_count": null,
      "outputs": [
        {
          "output_type": "execute_result",
          "data": {
            "text/plain": [
              "   Pregnancies  Glucose    BP    ST  Insulin   BMI    DPF  Age  Outcome\n",
              "0            6    148.0  72.0  35.0    125.0  33.6  0.627   50        1\n",
              "2            8    183.0  64.0  29.0    125.0  23.3  0.672   32        1\n",
              "4            0    137.0  40.0  35.0    168.0  43.1  2.288   33        1\n",
              "6            3     78.0  50.0  32.0     88.0  31.0  0.248   26        1\n",
              "8            2    197.0  70.0  45.0    543.0  30.5  0.158   53        1"
            ],
            "text/html": [
              "\n",
              "  <div id=\"df-14a8d2d5-5e63-4ad8-8436-f1f5a24f6731\" class=\"colab-df-container\">\n",
              "    <div>\n",
              "<style scoped>\n",
              "    .dataframe tbody tr th:only-of-type {\n",
              "        vertical-align: middle;\n",
              "    }\n",
              "\n",
              "    .dataframe tbody tr th {\n",
              "        vertical-align: top;\n",
              "    }\n",
              "\n",
              "    .dataframe thead th {\n",
              "        text-align: right;\n",
              "    }\n",
              "</style>\n",
              "<table border=\"1\" class=\"dataframe\">\n",
              "  <thead>\n",
              "    <tr style=\"text-align: right;\">\n",
              "      <th></th>\n",
              "      <th>Pregnancies</th>\n",
              "      <th>Glucose</th>\n",
              "      <th>BP</th>\n",
              "      <th>ST</th>\n",
              "      <th>Insulin</th>\n",
              "      <th>BMI</th>\n",
              "      <th>DPF</th>\n",
              "      <th>Age</th>\n",
              "      <th>Outcome</th>\n",
              "    </tr>\n",
              "  </thead>\n",
              "  <tbody>\n",
              "    <tr>\n",
              "      <th>0</th>\n",
              "      <td>6</td>\n",
              "      <td>148.0</td>\n",
              "      <td>72.0</td>\n",
              "      <td>35.0</td>\n",
              "      <td>125.0</td>\n",
              "      <td>33.6</td>\n",
              "      <td>0.627</td>\n",
              "      <td>50</td>\n",
              "      <td>1</td>\n",
              "    </tr>\n",
              "    <tr>\n",
              "      <th>2</th>\n",
              "      <td>8</td>\n",
              "      <td>183.0</td>\n",
              "      <td>64.0</td>\n",
              "      <td>29.0</td>\n",
              "      <td>125.0</td>\n",
              "      <td>23.3</td>\n",
              "      <td>0.672</td>\n",
              "      <td>32</td>\n",
              "      <td>1</td>\n",
              "    </tr>\n",
              "    <tr>\n",
              "      <th>4</th>\n",
              "      <td>0</td>\n",
              "      <td>137.0</td>\n",
              "      <td>40.0</td>\n",
              "      <td>35.0</td>\n",
              "      <td>168.0</td>\n",
              "      <td>43.1</td>\n",
              "      <td>2.288</td>\n",
              "      <td>33</td>\n",
              "      <td>1</td>\n",
              "    </tr>\n",
              "    <tr>\n",
              "      <th>6</th>\n",
              "      <td>3</td>\n",
              "      <td>78.0</td>\n",
              "      <td>50.0</td>\n",
              "      <td>32.0</td>\n",
              "      <td>88.0</td>\n",
              "      <td>31.0</td>\n",
              "      <td>0.248</td>\n",
              "      <td>26</td>\n",
              "      <td>1</td>\n",
              "    </tr>\n",
              "    <tr>\n",
              "      <th>8</th>\n",
              "      <td>2</td>\n",
              "      <td>197.0</td>\n",
              "      <td>70.0</td>\n",
              "      <td>45.0</td>\n",
              "      <td>543.0</td>\n",
              "      <td>30.5</td>\n",
              "      <td>0.158</td>\n",
              "      <td>53</td>\n",
              "      <td>1</td>\n",
              "    </tr>\n",
              "  </tbody>\n",
              "</table>\n",
              "</div>\n",
              "    <div class=\"colab-df-buttons\">\n",
              "\n",
              "  <div class=\"colab-df-container\">\n",
              "    <button class=\"colab-df-convert\" onclick=\"convertToInteractive('df-14a8d2d5-5e63-4ad8-8436-f1f5a24f6731')\"\n",
              "            title=\"Convert this dataframe to an interactive table.\"\n",
              "            style=\"display:none;\">\n",
              "\n",
              "  <svg xmlns=\"http://www.w3.org/2000/svg\" height=\"24px\" viewBox=\"0 -960 960 960\">\n",
              "    <path d=\"M120-120v-720h720v720H120Zm60-500h600v-160H180v160Zm220 220h160v-160H400v160Zm0 220h160v-160H400v160ZM180-400h160v-160H180v160Zm440 0h160v-160H620v160ZM180-180h160v-160H180v160Zm440 0h160v-160H620v160Z\"/>\n",
              "  </svg>\n",
              "    </button>\n",
              "\n",
              "  <style>\n",
              "    .colab-df-container {\n",
              "      display:flex;\n",
              "      gap: 12px;\n",
              "    }\n",
              "\n",
              "    .colab-df-convert {\n",
              "      background-color: #E8F0FE;\n",
              "      border: none;\n",
              "      border-radius: 50%;\n",
              "      cursor: pointer;\n",
              "      display: none;\n",
              "      fill: #1967D2;\n",
              "      height: 32px;\n",
              "      padding: 0 0 0 0;\n",
              "      width: 32px;\n",
              "    }\n",
              "\n",
              "    .colab-df-convert:hover {\n",
              "      background-color: #E2EBFA;\n",
              "      box-shadow: 0px 1px 2px rgba(60, 64, 67, 0.3), 0px 1px 3px 1px rgba(60, 64, 67, 0.15);\n",
              "      fill: #174EA6;\n",
              "    }\n",
              "\n",
              "    .colab-df-buttons div {\n",
              "      margin-bottom: 4px;\n",
              "    }\n",
              "\n",
              "    [theme=dark] .colab-df-convert {\n",
              "      background-color: #3B4455;\n",
              "      fill: #D2E3FC;\n",
              "    }\n",
              "\n",
              "    [theme=dark] .colab-df-convert:hover {\n",
              "      background-color: #434B5C;\n",
              "      box-shadow: 0px 1px 3px 1px rgba(0, 0, 0, 0.15);\n",
              "      filter: drop-shadow(0px 1px 2px rgba(0, 0, 0, 0.3));\n",
              "      fill: #FFFFFF;\n",
              "    }\n",
              "  </style>\n",
              "\n",
              "    <script>\n",
              "      const buttonEl =\n",
              "        document.querySelector('#df-14a8d2d5-5e63-4ad8-8436-f1f5a24f6731 button.colab-df-convert');\n",
              "      buttonEl.style.display =\n",
              "        google.colab.kernel.accessAllowed ? 'block' : 'none';\n",
              "\n",
              "      async function convertToInteractive(key) {\n",
              "        const element = document.querySelector('#df-14a8d2d5-5e63-4ad8-8436-f1f5a24f6731');\n",
              "        const dataTable =\n",
              "          await google.colab.kernel.invokeFunction('convertToInteractive',\n",
              "                                                    [key], {});\n",
              "        if (!dataTable) return;\n",
              "\n",
              "        const docLinkHtml = 'Like what you see? Visit the ' +\n",
              "          '<a target=\"_blank\" href=https://colab.research.google.com/notebooks/data_table.ipynb>data table notebook</a>'\n",
              "          + ' to learn more about interactive tables.';\n",
              "        element.innerHTML = '';\n",
              "        dataTable['output_type'] = 'display_data';\n",
              "        await google.colab.output.renderOutput(dataTable, element);\n",
              "        const docLink = document.createElement('div');\n",
              "        docLink.innerHTML = docLinkHtml;\n",
              "        element.appendChild(docLink);\n",
              "      }\n",
              "    </script>\n",
              "  </div>\n",
              "\n",
              "\n",
              "<div id=\"df-b08fb35f-a947-41c9-a67c-b386f20cf8fa\">\n",
              "  <button class=\"colab-df-quickchart\" onclick=\"quickchart('df-b08fb35f-a947-41c9-a67c-b386f20cf8fa')\"\n",
              "            title=\"Suggest charts\"\n",
              "            style=\"display:none;\">\n",
              "\n",
              "<svg xmlns=\"http://www.w3.org/2000/svg\" height=\"24px\"viewBox=\"0 0 24 24\"\n",
              "     width=\"24px\">\n",
              "    <g>\n",
              "        <path d=\"M19 3H5c-1.1 0-2 .9-2 2v14c0 1.1.9 2 2 2h14c1.1 0 2-.9 2-2V5c0-1.1-.9-2-2-2zM9 17H7v-7h2v7zm4 0h-2V7h2v10zm4 0h-2v-4h2v4z\"/>\n",
              "    </g>\n",
              "</svg>\n",
              "  </button>\n",
              "\n",
              "<style>\n",
              "  .colab-df-quickchart {\n",
              "      --bg-color: #E8F0FE;\n",
              "      --fill-color: #1967D2;\n",
              "      --hover-bg-color: #E2EBFA;\n",
              "      --hover-fill-color: #174EA6;\n",
              "      --disabled-fill-color: #AAA;\n",
              "      --disabled-bg-color: #DDD;\n",
              "  }\n",
              "\n",
              "  [theme=dark] .colab-df-quickchart {\n",
              "      --bg-color: #3B4455;\n",
              "      --fill-color: #D2E3FC;\n",
              "      --hover-bg-color: #434B5C;\n",
              "      --hover-fill-color: #FFFFFF;\n",
              "      --disabled-bg-color: #3B4455;\n",
              "      --disabled-fill-color: #666;\n",
              "  }\n",
              "\n",
              "  .colab-df-quickchart {\n",
              "    background-color: var(--bg-color);\n",
              "    border: none;\n",
              "    border-radius: 50%;\n",
              "    cursor: pointer;\n",
              "    display: none;\n",
              "    fill: var(--fill-color);\n",
              "    height: 32px;\n",
              "    padding: 0;\n",
              "    width: 32px;\n",
              "  }\n",
              "\n",
              "  .colab-df-quickchart:hover {\n",
              "    background-color: var(--hover-bg-color);\n",
              "    box-shadow: 0 1px 2px rgba(60, 64, 67, 0.3), 0 1px 3px 1px rgba(60, 64, 67, 0.15);\n",
              "    fill: var(--button-hover-fill-color);\n",
              "  }\n",
              "\n",
              "  .colab-df-quickchart-complete:disabled,\n",
              "  .colab-df-quickchart-complete:disabled:hover {\n",
              "    background-color: var(--disabled-bg-color);\n",
              "    fill: var(--disabled-fill-color);\n",
              "    box-shadow: none;\n",
              "  }\n",
              "\n",
              "  .colab-df-spinner {\n",
              "    border: 2px solid var(--fill-color);\n",
              "    border-color: transparent;\n",
              "    border-bottom-color: var(--fill-color);\n",
              "    animation:\n",
              "      spin 1s steps(1) infinite;\n",
              "  }\n",
              "\n",
              "  @keyframes spin {\n",
              "    0% {\n",
              "      border-color: transparent;\n",
              "      border-bottom-color: var(--fill-color);\n",
              "      border-left-color: var(--fill-color);\n",
              "    }\n",
              "    20% {\n",
              "      border-color: transparent;\n",
              "      border-left-color: var(--fill-color);\n",
              "      border-top-color: var(--fill-color);\n",
              "    }\n",
              "    30% {\n",
              "      border-color: transparent;\n",
              "      border-left-color: var(--fill-color);\n",
              "      border-top-color: var(--fill-color);\n",
              "      border-right-color: var(--fill-color);\n",
              "    }\n",
              "    40% {\n",
              "      border-color: transparent;\n",
              "      border-right-color: var(--fill-color);\n",
              "      border-top-color: var(--fill-color);\n",
              "    }\n",
              "    60% {\n",
              "      border-color: transparent;\n",
              "      border-right-color: var(--fill-color);\n",
              "    }\n",
              "    80% {\n",
              "      border-color: transparent;\n",
              "      border-right-color: var(--fill-color);\n",
              "      border-bottom-color: var(--fill-color);\n",
              "    }\n",
              "    90% {\n",
              "      border-color: transparent;\n",
              "      border-bottom-color: var(--fill-color);\n",
              "    }\n",
              "  }\n",
              "</style>\n",
              "\n",
              "  <script>\n",
              "    async function quickchart(key) {\n",
              "      const quickchartButtonEl =\n",
              "        document.querySelector('#' + key + ' button');\n",
              "      quickchartButtonEl.disabled = true;  // To prevent multiple clicks.\n",
              "      quickchartButtonEl.classList.add('colab-df-spinner');\n",
              "      try {\n",
              "        const charts = await google.colab.kernel.invokeFunction(\n",
              "            'suggestCharts', [key], {});\n",
              "      } catch (error) {\n",
              "        console.error('Error during call to suggestCharts:', error);\n",
              "      }\n",
              "      quickchartButtonEl.classList.remove('colab-df-spinner');\n",
              "      quickchartButtonEl.classList.add('colab-df-quickchart-complete');\n",
              "    }\n",
              "    (() => {\n",
              "      let quickchartButtonEl =\n",
              "        document.querySelector('#df-b08fb35f-a947-41c9-a67c-b386f20cf8fa button');\n",
              "      quickchartButtonEl.style.display =\n",
              "        google.colab.kernel.accessAllowed ? 'block' : 'none';\n",
              "    })();\n",
              "  </script>\n",
              "</div>\n",
              "\n",
              "    </div>\n",
              "  </div>\n"
            ],
            "application/vnd.google.colaboratory.intrinsic+json": {
              "type": "dataframe",
              "variable_name": "diabetes_positive",
              "summary": "{\n  \"name\": \"diabetes_positive\",\n  \"rows\": 268,\n  \"fields\": [\n    {\n      \"column\": \"Pregnancies\",\n      \"properties\": {\n        \"dtype\": \"number\",\n        \"std\": 3,\n        \"min\": 0,\n        \"max\": 17,\n        \"num_unique_values\": 17,\n        \"samples\": [\n          6,\n          8,\n          10\n        ],\n        \"semantic_type\": \"\",\n        \"description\": \"\"\n      }\n    },\n    {\n      \"column\": \"Glucose\",\n      \"properties\": {\n        \"dtype\": \"number\",\n        \"std\": 29.541750317823798,\n        \"min\": 78.0,\n        \"max\": 199.0,\n        \"num_unique_values\": 104,\n        \"samples\": [\n          131.0,\n          85.0,\n          151.0\n        ],\n        \"semantic_type\": \"\",\n        \"description\": \"\"\n      }\n    },\n    {\n      \"column\": \"BP\",\n      \"properties\": {\n        \"dtype\": \"number\",\n        \"std\": 11.945712456058585,\n        \"min\": 30.0,\n        \"max\": 114.0,\n        \"num_unique_values\": 39,\n        \"samples\": [\n          58.0,\n          100.0,\n          70.0\n        ],\n        \"semantic_type\": \"\",\n        \"description\": \"\"\n      }\n    },\n    {\n      \"column\": \"ST\",\n      \"properties\": {\n        \"dtype\": \"number\",\n        \"std\": 8.662993670351536,\n        \"min\": 7.0,\n        \"max\": 99.0,\n        \"num_unique_values\": 42,\n        \"samples\": [\n          46.0,\n          24.0,\n          33.0\n        ],\n        \"semantic_type\": \"\",\n        \"description\": \"\"\n      }\n    },\n    {\n      \"column\": \"Insulin\",\n      \"properties\": {\n        \"dtype\": \"number\",\n        \"std\": 100.93224855942763,\n        \"min\": 14.0,\n        \"max\": 846.0,\n        \"num_unique_values\": 92,\n        \"samples\": [\n          176.0,\n          99.0,\n          249.0\n        ],\n        \"semantic_type\": \"\",\n        \"description\": \"\"\n      }\n    },\n    {\n      \"column\": \"BMI\",\n      \"properties\": {\n        \"dtype\": \"number\",\n        \"std\": 6.595602825647214,\n        \"min\": 22.9,\n        \"max\": 67.1,\n        \"num_unique_values\": 147,\n        \"samples\": [\n          36.8,\n          35.4,\n          46.1\n        ],\n        \"semantic_type\": \"\",\n        \"description\": \"\"\n      }\n    },\n    {\n      \"column\": \"DPF\",\n      \"properties\": {\n        \"dtype\": \"number\",\n        \"std\": 0.372354483554611,\n        \"min\": 0.088,\n        \"max\": 2.42,\n        \"num_unique_values\": 231,\n        \"samples\": [\n          0.378,\n          0.578,\n          0.484\n        ],\n        \"semantic_type\": \"\",\n        \"description\": \"\"\n      }\n    },\n    {\n      \"column\": \"Age\",\n      \"properties\": {\n        \"dtype\": \"number\",\n        \"std\": 10,\n        \"min\": 21,\n        \"max\": 70,\n        \"num_unique_values\": 45,\n        \"samples\": [\n          35,\n          61,\n          23\n        ],\n        \"semantic_type\": \"\",\n        \"description\": \"\"\n      }\n    },\n    {\n      \"column\": \"Outcome\",\n      \"properties\": {\n        \"dtype\": \"number\",\n        \"std\": 0,\n        \"min\": 1,\n        \"max\": 1,\n        \"num_unique_values\": 1,\n        \"samples\": [\n          1\n        ],\n        \"semantic_type\": \"\",\n        \"description\": \"\"\n      }\n    }\n  ]\n}"
            }
          },
          "metadata": {},
          "execution_count": 9
        }
      ]
    },
    {
      "cell_type": "markdown",
      "source": [
        "#Diabetes Negative"
      ],
      "metadata": {
        "id": "AyHb2dMd5AJb"
      }
    },
    {
      "cell_type": "code",
      "source": [
        "diabetes_negative = df_new[df_new.Outcome==0]\n",
        "diabetes_negative.head()\n"
      ],
      "metadata": {
        "colab": {
          "base_uri": "https://localhost:8080/",
          "height": 206
        },
        "id": "9mLNM87C31kU",
        "outputId": "f9c22717-17f3-4678-a745-0121ace037a0"
      },
      "execution_count": null,
      "outputs": [
        {
          "output_type": "execute_result",
          "data": {
            "text/plain": [
              "    Pregnancies  Glucose         BP    ST  Insulin   BMI    DPF  Age  Outcome\n",
              "1             1     85.0  66.000000  29.0    125.0  26.6  0.351   31        0\n",
              "3             1     89.0  66.000000  23.0     94.0  28.1  0.167   21        0\n",
              "5             5    116.0  74.000000  29.0    125.0  25.6  0.201   30        0\n",
              "7            10    115.0  72.405184  29.0    125.0  35.3  0.134   29        0\n",
              "10            4    110.0  92.000000  29.0    125.0  37.6  0.191   30        0"
            ],
            "text/html": [
              "\n",
              "  <div id=\"df-526c54ad-03d4-47f8-a2f1-144f60f2c210\" class=\"colab-df-container\">\n",
              "    <div>\n",
              "<style scoped>\n",
              "    .dataframe tbody tr th:only-of-type {\n",
              "        vertical-align: middle;\n",
              "    }\n",
              "\n",
              "    .dataframe tbody tr th {\n",
              "        vertical-align: top;\n",
              "    }\n",
              "\n",
              "    .dataframe thead th {\n",
              "        text-align: right;\n",
              "    }\n",
              "</style>\n",
              "<table border=\"1\" class=\"dataframe\">\n",
              "  <thead>\n",
              "    <tr style=\"text-align: right;\">\n",
              "      <th></th>\n",
              "      <th>Pregnancies</th>\n",
              "      <th>Glucose</th>\n",
              "      <th>BP</th>\n",
              "      <th>ST</th>\n",
              "      <th>Insulin</th>\n",
              "      <th>BMI</th>\n",
              "      <th>DPF</th>\n",
              "      <th>Age</th>\n",
              "      <th>Outcome</th>\n",
              "    </tr>\n",
              "  </thead>\n",
              "  <tbody>\n",
              "    <tr>\n",
              "      <th>1</th>\n",
              "      <td>1</td>\n",
              "      <td>85.0</td>\n",
              "      <td>66.000000</td>\n",
              "      <td>29.0</td>\n",
              "      <td>125.0</td>\n",
              "      <td>26.6</td>\n",
              "      <td>0.351</td>\n",
              "      <td>31</td>\n",
              "      <td>0</td>\n",
              "    </tr>\n",
              "    <tr>\n",
              "      <th>3</th>\n",
              "      <td>1</td>\n",
              "      <td>89.0</td>\n",
              "      <td>66.000000</td>\n",
              "      <td>23.0</td>\n",
              "      <td>94.0</td>\n",
              "      <td>28.1</td>\n",
              "      <td>0.167</td>\n",
              "      <td>21</td>\n",
              "      <td>0</td>\n",
              "    </tr>\n",
              "    <tr>\n",
              "      <th>5</th>\n",
              "      <td>5</td>\n",
              "      <td>116.0</td>\n",
              "      <td>74.000000</td>\n",
              "      <td>29.0</td>\n",
              "      <td>125.0</td>\n",
              "      <td>25.6</td>\n",
              "      <td>0.201</td>\n",
              "      <td>30</td>\n",
              "      <td>0</td>\n",
              "    </tr>\n",
              "    <tr>\n",
              "      <th>7</th>\n",
              "      <td>10</td>\n",
              "      <td>115.0</td>\n",
              "      <td>72.405184</td>\n",
              "      <td>29.0</td>\n",
              "      <td>125.0</td>\n",
              "      <td>35.3</td>\n",
              "      <td>0.134</td>\n",
              "      <td>29</td>\n",
              "      <td>0</td>\n",
              "    </tr>\n",
              "    <tr>\n",
              "      <th>10</th>\n",
              "      <td>4</td>\n",
              "      <td>110.0</td>\n",
              "      <td>92.000000</td>\n",
              "      <td>29.0</td>\n",
              "      <td>125.0</td>\n",
              "      <td>37.6</td>\n",
              "      <td>0.191</td>\n",
              "      <td>30</td>\n",
              "      <td>0</td>\n",
              "    </tr>\n",
              "  </tbody>\n",
              "</table>\n",
              "</div>\n",
              "    <div class=\"colab-df-buttons\">\n",
              "\n",
              "  <div class=\"colab-df-container\">\n",
              "    <button class=\"colab-df-convert\" onclick=\"convertToInteractive('df-526c54ad-03d4-47f8-a2f1-144f60f2c210')\"\n",
              "            title=\"Convert this dataframe to an interactive table.\"\n",
              "            style=\"display:none;\">\n",
              "\n",
              "  <svg xmlns=\"http://www.w3.org/2000/svg\" height=\"24px\" viewBox=\"0 -960 960 960\">\n",
              "    <path d=\"M120-120v-720h720v720H120Zm60-500h600v-160H180v160Zm220 220h160v-160H400v160Zm0 220h160v-160H400v160ZM180-400h160v-160H180v160Zm440 0h160v-160H620v160ZM180-180h160v-160H180v160Zm440 0h160v-160H620v160Z\"/>\n",
              "  </svg>\n",
              "    </button>\n",
              "\n",
              "  <style>\n",
              "    .colab-df-container {\n",
              "      display:flex;\n",
              "      gap: 12px;\n",
              "    }\n",
              "\n",
              "    .colab-df-convert {\n",
              "      background-color: #E8F0FE;\n",
              "      border: none;\n",
              "      border-radius: 50%;\n",
              "      cursor: pointer;\n",
              "      display: none;\n",
              "      fill: #1967D2;\n",
              "      height: 32px;\n",
              "      padding: 0 0 0 0;\n",
              "      width: 32px;\n",
              "    }\n",
              "\n",
              "    .colab-df-convert:hover {\n",
              "      background-color: #E2EBFA;\n",
              "      box-shadow: 0px 1px 2px rgba(60, 64, 67, 0.3), 0px 1px 3px 1px rgba(60, 64, 67, 0.15);\n",
              "      fill: #174EA6;\n",
              "    }\n",
              "\n",
              "    .colab-df-buttons div {\n",
              "      margin-bottom: 4px;\n",
              "    }\n",
              "\n",
              "    [theme=dark] .colab-df-convert {\n",
              "      background-color: #3B4455;\n",
              "      fill: #D2E3FC;\n",
              "    }\n",
              "\n",
              "    [theme=dark] .colab-df-convert:hover {\n",
              "      background-color: #434B5C;\n",
              "      box-shadow: 0px 1px 3px 1px rgba(0, 0, 0, 0.15);\n",
              "      filter: drop-shadow(0px 1px 2px rgba(0, 0, 0, 0.3));\n",
              "      fill: #FFFFFF;\n",
              "    }\n",
              "  </style>\n",
              "\n",
              "    <script>\n",
              "      const buttonEl =\n",
              "        document.querySelector('#df-526c54ad-03d4-47f8-a2f1-144f60f2c210 button.colab-df-convert');\n",
              "      buttonEl.style.display =\n",
              "        google.colab.kernel.accessAllowed ? 'block' : 'none';\n",
              "\n",
              "      async function convertToInteractive(key) {\n",
              "        const element = document.querySelector('#df-526c54ad-03d4-47f8-a2f1-144f60f2c210');\n",
              "        const dataTable =\n",
              "          await google.colab.kernel.invokeFunction('convertToInteractive',\n",
              "                                                    [key], {});\n",
              "        if (!dataTable) return;\n",
              "\n",
              "        const docLinkHtml = 'Like what you see? Visit the ' +\n",
              "          '<a target=\"_blank\" href=https://colab.research.google.com/notebooks/data_table.ipynb>data table notebook</a>'\n",
              "          + ' to learn more about interactive tables.';\n",
              "        element.innerHTML = '';\n",
              "        dataTable['output_type'] = 'display_data';\n",
              "        await google.colab.output.renderOutput(dataTable, element);\n",
              "        const docLink = document.createElement('div');\n",
              "        docLink.innerHTML = docLinkHtml;\n",
              "        element.appendChild(docLink);\n",
              "      }\n",
              "    </script>\n",
              "  </div>\n",
              "\n",
              "\n",
              "<div id=\"df-ea44e988-2d69-49c6-b3b3-44bae4283797\">\n",
              "  <button class=\"colab-df-quickchart\" onclick=\"quickchart('df-ea44e988-2d69-49c6-b3b3-44bae4283797')\"\n",
              "            title=\"Suggest charts\"\n",
              "            style=\"display:none;\">\n",
              "\n",
              "<svg xmlns=\"http://www.w3.org/2000/svg\" height=\"24px\"viewBox=\"0 0 24 24\"\n",
              "     width=\"24px\">\n",
              "    <g>\n",
              "        <path d=\"M19 3H5c-1.1 0-2 .9-2 2v14c0 1.1.9 2 2 2h14c1.1 0 2-.9 2-2V5c0-1.1-.9-2-2-2zM9 17H7v-7h2v7zm4 0h-2V7h2v10zm4 0h-2v-4h2v4z\"/>\n",
              "    </g>\n",
              "</svg>\n",
              "  </button>\n",
              "\n",
              "<style>\n",
              "  .colab-df-quickchart {\n",
              "      --bg-color: #E8F0FE;\n",
              "      --fill-color: #1967D2;\n",
              "      --hover-bg-color: #E2EBFA;\n",
              "      --hover-fill-color: #174EA6;\n",
              "      --disabled-fill-color: #AAA;\n",
              "      --disabled-bg-color: #DDD;\n",
              "  }\n",
              "\n",
              "  [theme=dark] .colab-df-quickchart {\n",
              "      --bg-color: #3B4455;\n",
              "      --fill-color: #D2E3FC;\n",
              "      --hover-bg-color: #434B5C;\n",
              "      --hover-fill-color: #FFFFFF;\n",
              "      --disabled-bg-color: #3B4455;\n",
              "      --disabled-fill-color: #666;\n",
              "  }\n",
              "\n",
              "  .colab-df-quickchart {\n",
              "    background-color: var(--bg-color);\n",
              "    border: none;\n",
              "    border-radius: 50%;\n",
              "    cursor: pointer;\n",
              "    display: none;\n",
              "    fill: var(--fill-color);\n",
              "    height: 32px;\n",
              "    padding: 0;\n",
              "    width: 32px;\n",
              "  }\n",
              "\n",
              "  .colab-df-quickchart:hover {\n",
              "    background-color: var(--hover-bg-color);\n",
              "    box-shadow: 0 1px 2px rgba(60, 64, 67, 0.3), 0 1px 3px 1px rgba(60, 64, 67, 0.15);\n",
              "    fill: var(--button-hover-fill-color);\n",
              "  }\n",
              "\n",
              "  .colab-df-quickchart-complete:disabled,\n",
              "  .colab-df-quickchart-complete:disabled:hover {\n",
              "    background-color: var(--disabled-bg-color);\n",
              "    fill: var(--disabled-fill-color);\n",
              "    box-shadow: none;\n",
              "  }\n",
              "\n",
              "  .colab-df-spinner {\n",
              "    border: 2px solid var(--fill-color);\n",
              "    border-color: transparent;\n",
              "    border-bottom-color: var(--fill-color);\n",
              "    animation:\n",
              "      spin 1s steps(1) infinite;\n",
              "  }\n",
              "\n",
              "  @keyframes spin {\n",
              "    0% {\n",
              "      border-color: transparent;\n",
              "      border-bottom-color: var(--fill-color);\n",
              "      border-left-color: var(--fill-color);\n",
              "    }\n",
              "    20% {\n",
              "      border-color: transparent;\n",
              "      border-left-color: var(--fill-color);\n",
              "      border-top-color: var(--fill-color);\n",
              "    }\n",
              "    30% {\n",
              "      border-color: transparent;\n",
              "      border-left-color: var(--fill-color);\n",
              "      border-top-color: var(--fill-color);\n",
              "      border-right-color: var(--fill-color);\n",
              "    }\n",
              "    40% {\n",
              "      border-color: transparent;\n",
              "      border-right-color: var(--fill-color);\n",
              "      border-top-color: var(--fill-color);\n",
              "    }\n",
              "    60% {\n",
              "      border-color: transparent;\n",
              "      border-right-color: var(--fill-color);\n",
              "    }\n",
              "    80% {\n",
              "      border-color: transparent;\n",
              "      border-right-color: var(--fill-color);\n",
              "      border-bottom-color: var(--fill-color);\n",
              "    }\n",
              "    90% {\n",
              "      border-color: transparent;\n",
              "      border-bottom-color: var(--fill-color);\n",
              "    }\n",
              "  }\n",
              "</style>\n",
              "\n",
              "  <script>\n",
              "    async function quickchart(key) {\n",
              "      const quickchartButtonEl =\n",
              "        document.querySelector('#' + key + ' button');\n",
              "      quickchartButtonEl.disabled = true;  // To prevent multiple clicks.\n",
              "      quickchartButtonEl.classList.add('colab-df-spinner');\n",
              "      try {\n",
              "        const charts = await google.colab.kernel.invokeFunction(\n",
              "            'suggestCharts', [key], {});\n",
              "      } catch (error) {\n",
              "        console.error('Error during call to suggestCharts:', error);\n",
              "      }\n",
              "      quickchartButtonEl.classList.remove('colab-df-spinner');\n",
              "      quickchartButtonEl.classList.add('colab-df-quickchart-complete');\n",
              "    }\n",
              "    (() => {\n",
              "      let quickchartButtonEl =\n",
              "        document.querySelector('#df-ea44e988-2d69-49c6-b3b3-44bae4283797 button');\n",
              "      quickchartButtonEl.style.display =\n",
              "        google.colab.kernel.accessAllowed ? 'block' : 'none';\n",
              "    })();\n",
              "  </script>\n",
              "</div>\n",
              "\n",
              "    </div>\n",
              "  </div>\n"
            ],
            "application/vnd.google.colaboratory.intrinsic+json": {
              "type": "dataframe",
              "variable_name": "diabetes_negative",
              "summary": "{\n  \"name\": \"diabetes_negative\",\n  \"rows\": 500,\n  \"fields\": [\n    {\n      \"column\": \"Pregnancies\",\n      \"properties\": {\n        \"dtype\": \"number\",\n        \"std\": 3,\n        \"min\": 0,\n        \"max\": 13,\n        \"num_unique_values\": 14,\n        \"samples\": [\n          7,\n          0,\n          1\n        ],\n        \"semantic_type\": \"\",\n        \"description\": \"\"\n      }\n    },\n    {\n      \"column\": \"Glucose\",\n      \"properties\": {\n        \"dtype\": \"number\",\n        \"std\": 24.717060453601054,\n        \"min\": 44.0,\n        \"max\": 197.0,\n        \"num_unique_values\": 111,\n        \"samples\": [\n          193.0,\n          145.0,\n          110.0\n        ],\n        \"semantic_type\": \"\",\n        \"description\": \"\"\n      }\n    },\n    {\n      \"column\": \"BP\",\n      \"properties\": {\n        \"dtype\": \"number\",\n        \"std\": 11.931033408135374,\n        \"min\": 24.0,\n        \"max\": 122.0,\n        \"num_unique_values\": 43,\n        \"samples\": [\n          94.0,\n          65.0,\n          68.0\n        ],\n        \"semantic_type\": \"\",\n        \"description\": \"\"\n      }\n    },\n    {\n      \"column\": \"ST\",\n      \"properties\": {\n        \"dtype\": \"number\",\n        \"std\": 8.552966179105464,\n        \"min\": 7.0,\n        \"max\": 60.0,\n        \"num_unique_values\": 45,\n        \"samples\": [\n          8.0,\n          40.0,\n          39.0\n        ],\n        \"semantic_type\": \"\",\n        \"description\": \"\"\n      }\n    },\n    {\n      \"column\": \"Insulin\",\n      \"properties\": {\n        \"dtype\": \"number\",\n        \"std\": 74.44746864181728,\n        \"min\": 15.0,\n        \"max\": 744.0,\n        \"num_unique_values\": 136,\n        \"samples\": [\n          52.0,\n          190.0,\n          116.0\n        ],\n        \"semantic_type\": \"\",\n        \"description\": \"\"\n      }\n    },\n    {\n      \"column\": \"BMI\",\n      \"properties\": {\n        \"dtype\": \"number\",\n        \"std\": 6.504127920021255,\n        \"min\": 18.2,\n        \"max\": 57.3,\n        \"num_unique_values\": 210,\n        \"samples\": [\n          46.8,\n          35.2,\n          25.2\n        ],\n        \"semantic_type\": \"\",\n        \"description\": \"\"\n      }\n    },\n    {\n      \"column\": \"DPF\",\n      \"properties\": {\n        \"dtype\": \"number\",\n        \"std\": 0.29908530435741093,\n        \"min\": 0.078,\n        \"max\": 2.329,\n        \"num_unique_values\": 372,\n        \"samples\": [\n          0.133,\n          0.304,\n          0.512\n        ],\n        \"semantic_type\": \"\",\n        \"description\": \"\"\n      }\n    },\n    {\n      \"column\": \"Age\",\n      \"properties\": {\n        \"dtype\": \"number\",\n        \"std\": 11,\n        \"min\": 21,\n        \"max\": 81,\n        \"num_unique_values\": 51,\n        \"samples\": [\n          81,\n          49,\n          66\n        ],\n        \"semantic_type\": \"\",\n        \"description\": \"\"\n      }\n    },\n    {\n      \"column\": \"Outcome\",\n      \"properties\": {\n        \"dtype\": \"number\",\n        \"std\": 0,\n        \"min\": 0,\n        \"max\": 0,\n        \"num_unique_values\": 1,\n        \"samples\": [\n          0\n        ],\n        \"semantic_type\": \"\",\n        \"description\": \"\"\n      }\n    }\n  ]\n}"
            }
          },
          "metadata": {},
          "execution_count": 10
        }
      ]
    },
    {
      "cell_type": "markdown",
      "source": [
        "#Data Visualization"
      ],
      "metadata": {
        "id": "ts54j4df5kp5"
      }
    },
    {
      "cell_type": "markdown",
      "source": [
        "#Plotting Diabetes Positive and Negative"
      ],
      "metadata": {
        "id": "Ocb7lZo35Rfn"
      }
    },
    {
      "cell_type": "code",
      "source": [
        "plt.scatter(diabetes_negative.Age, diabetes_negative.Glucose, color=\"red\", label=\"diabetes_negative\",alpha=0.4)\n",
        "plt.scatter(diabetes_positive.Age, diabetes_positive.Glucose, color=\"blue\",label=\"diabetes_positive\",alpha=0.4)\n",
        "plt.xlabel(\"Age\")\n",
        "plt.ylabel(\"Glucose\")\n",
        "plt.legend()\n",
        "plt.show()"
      ],
      "metadata": {
        "colab": {
          "base_uri": "https://localhost:8080/",
          "height": 449
        },
        "id": "1C5ne81U81fK",
        "outputId": "fcd3af4c-b540-4069-850c-1b9873dac1d7"
      },
      "execution_count": null,
      "outputs": [
        {
          "output_type": "display_data",
          "data": {
            "text/plain": [
              "<Figure size 640x480 with 1 Axes>"
            ],
            "image/png": "[encoded data removed]"
          },
          "metadata": {}
        }
      ]
    },
    {
      "cell_type": "markdown",
      "source": [
        "#Correlation Heatmap\n",
        "\n"
      ],
      "metadata": {
        "id": "NBPdtqV51SL6"
      }
    },
    {
      "cell_type": "code",
      "source": [
        "\n",
        "dataplot = sns.heatmap(df_new.corr(numeric_only=True), cmap=\"YlGnBu\", annot=True)\n",
        "\n",
        "plt.show()"
      ],
      "metadata": {
        "colab": {
          "base_uri": "https://localhost:8080/",
          "height": 506
        },
        "id": "o-F-Mb7e1kwN",
        "outputId": "84af19a5-804d-42b3-e645-4d49c7630f4a"
      },
      "execution_count": null,
      "outputs": [
        {
          "output_type": "display_data",
          "data": {
            "text/plain": [
              "<Figure size 640x480 with 2 Axes>"
            ],
            "image/png": "[encoded data removed]"
          },
          "metadata": {}
        }
      ]
    },
    {
      "cell_type": "code",
      "source": [
        "df_new.corr()['Outcome'].sort_values(ascending=True)"
      ],
      "metadata": {
        "colab": {
          "base_uri": "https://localhost:8080/",
          "height": 366
        },
        "id": "y2Sx7BzT8_db",
        "outputId": "5459107d-f004-4df3-b946-9ec3282f542a"
      },
      "execution_count": null,
      "outputs": [
        {
          "output_type": "execute_result",
          "data": {
            "text/plain": [
              "BP             0.166074\n",
              "DPF            0.173844\n",
              "Insulin        0.203790\n",
              "ST             0.214873\n",
              "Pregnancies    0.221898\n",
              "Age            0.238356\n",
              "BMI            0.312038\n",
              "Glucose        0.492928\n",
              "Outcome        1.000000\n",
              "Name: Outcome, dtype: float64"
            ],
            "text/html": [
              "<div>\n",
              "<style scoped>\n",
              "    .dataframe tbody tr th:only-of-type {\n",
              "        vertical-align: middle;\n",
              "    }\n",
              "\n",
              "    .dataframe tbody tr th {\n",
              "        vertical-align: top;\n",
              "    }\n",
              "\n",
              "    .dataframe thead th {\n",
              "        text-align: right;\n",
              "    }\n",
              "</style>\n",
              "<table border=\"1\" class=\"dataframe\">\n",
              "  <thead>\n",
              "    <tr style=\"text-align: right;\">\n",
              "      <th></th>\n",
              "      <th>Outcome</th>\n",
              "    </tr>\n",
              "  </thead>\n",
              "  <tbody>\n",
              "    <tr>\n",
              "      <th>BP</th>\n",
              "      <td>0.166074</td>\n",
              "    </tr>\n",
              "    <tr>\n",
              "      <th>DPF</th>\n",
              "      <td>0.173844</td>\n",
              "    </tr>\n",
              "    <tr>\n",
              "      <th>Insulin</th>\n",
              "      <td>0.203790</td>\n",
              "    </tr>\n",
              "    <tr>\n",
              "      <th>ST</th>\n",
              "      <td>0.214873</td>\n",
              "    </tr>\n",
              "    <tr>\n",
              "      <th>Pregnancies</th>\n",
              "      <td>0.221898</td>\n",
              "    </tr>\n",
              "    <tr>\n",
              "      <th>Age</th>\n",
              "      <td>0.238356</td>\n",
              "    </tr>\n",
              "    <tr>\n",
              "      <th>BMI</th>\n",
              "      <td>0.312038</td>\n",
              "    </tr>\n",
              "    <tr>\n",
              "      <th>Glucose</th>\n",
              "      <td>0.492928</td>\n",
              "    </tr>\n",
              "    <tr>\n",
              "      <th>Outcome</th>\n",
              "      <td>1.000000</td>\n",
              "    </tr>\n",
              "  </tbody>\n",
              "</table>\n",
              "</div><br><label><b>dtype:</b> float64</label>"
            ]
          },
          "metadata": {},
          "execution_count": 13
        }
      ]
    },
    {
      "cell_type": "code",
      "source": [
        "df_new['Outcome'].value_counts().plot(kind='bar',title='Number of Diabetic and Non-Diabetic persons', color=['blue','red'])"
      ],
      "metadata": {
        "colab": {
          "base_uri": "https://localhost:8080/",
          "height": 484
        },
        "id": "5v1S3Z8V9W42",
        "outputId": "ff2c6833-d893-4aff-9b23-278d46b859c2"
      },
      "execution_count": null,
      "outputs": [
        {
          "output_type": "execute_result",
          "data": {
            "text/plain": [
              "<Axes: title={'center': 'Number of Diabetic and Non-Diabetic persons'}, xlabel='Outcome'>"
            ]
          },
          "metadata": {},
          "execution_count": 14
        },
        {
          "output_type": "display_data",
          "data": {
            "text/plain": [
              "<Figure size 640x480 with 1 Axes>"
            ],
            "image/png": "[encoded data removed]"
          },
          "metadata": {}
        }
      ]
    },
    {
      "cell_type": "markdown",
      "source": [
        "#Scatter Plot between BMI vs Glucose"
      ],
      "metadata": {
        "id": "7Ctec9q7BmXH"
      }
    },
    {
      "cell_type": "code",
      "source": [
        "df_new.plot(kind='scatter',x='BMI', y='Glucose',title='BMI vs Glucose', color='orange',alpha = 0.5)"
      ],
      "metadata": {
        "colab": {
          "base_uri": "https://localhost:8080/",
          "height": 489
        },
        "id": "x7CF5NU1AiEB",
        "outputId": "9d5008d8-df7a-4e93-adbd-d2ff2543cd24"
      },
      "execution_count": null,
      "outputs": [
        {
          "output_type": "execute_result",
          "data": {
            "text/plain": [
              "<Axes: title={'center': 'BMI vs Glucose'}, xlabel='BMI', ylabel='Glucose'>"
            ]
          },
          "metadata": {},
          "execution_count": 15
        },
        {
          "output_type": "display_data",
          "data": {
            "text/plain": [
              "<Figure size 640x480 with 1 Axes>"
            ],
            "image/png": "[encoded data removed]"
          },
          "metadata": {}
        }
      ]
    },
    {
      "cell_type": "markdown",
      "source": [
        "#Scatter Plot between Age vs Glucose"
      ],
      "metadata": {
        "id": "2aLnznI3AR4Q"
      }
    },
    {
      "cell_type": "code",
      "source": [
        "df_new.plot(kind='scatter',x='Age', y='Glucose',title='Age vs Glucose', color='violet',alpha = 0.5)"
      ],
      "metadata": {
        "colab": {
          "base_uri": "https://localhost:8080/",
          "height": 489
        },
        "id": "wdCXcf0bB9af",
        "outputId": "510678e2-86b1-46b0-e2b8-cf733246f24b"
      },
      "execution_count": null,
      "outputs": [
        {
          "output_type": "execute_result",
          "data": {
            "text/plain": [
              "<Axes: title={'center': 'Age vs Glucose'}, xlabel='Age', ylabel='Glucose'>"
            ]
          },
          "metadata": {},
          "execution_count": 16
        },
        {
          "output_type": "display_data",
          "data": {
            "text/plain": [
              "<Figure size 640x480 with 1 Axes>"
            ],
            "image/png": "[encoded data removed]"
          },
          "metadata": {}
        }
      ]
    },
    {
      "cell_type": "markdown",
      "source": [
        "#Highest Age of Diabetic patients"
      ],
      "metadata": {
        "id": "SdRF1XRbCbza"
      }
    },
    {
      "cell_type": "code",
      "source": [
        "df_new[df_new['Outcome']==1]['Age'].plot(kind='hist',bins=40,title='Age Distribution of diabetic patients',color='green')"
      ],
      "metadata": {
        "colab": {
          "base_uri": "https://localhost:8080/",
          "height": 469
        },
        "id": "sUac3DT3CYcC",
        "outputId": "59cba261-a29d-4a7c-e0ce-a73eded8ff0e"
      },
      "execution_count": null,
      "outputs": [
        {
          "output_type": "execute_result",
          "data": {
            "text/plain": [
              "<Axes: title={'center': 'Age Distribution of diabetic patients'}, ylabel='Frequency'>"
            ]
          },
          "metadata": {},
          "execution_count": 17
        },
        {
          "output_type": "display_data",
          "data": {
            "text/plain": [
              "<Figure size 640x480 with 1 Axes>"
            ],
            "image/png": "[encoded data removed]"
          },
          "metadata": {}
        }
      ]
    },
    {
      "cell_type": "markdown",
      "source": [
        "#Highest Age is in the range 30 and 40."
      ],
      "metadata": {
        "id": "coBrGIL3Dd6y"
      }
    },
    {
      "cell_type": "markdown",
      "source": [
        "#Data Modeling"
      ],
      "metadata": {
        "id": "NaTLe0jwDxyn"
      }
    },
    {
      "cell_type": "code",
      "source": [
        "\n",
        "\n",
        "\n",
        "X = df_new.drop(['Outcome'],axis=1)\n",
        "y = df_new.Outcome.values\n",
        "\n",
        "print(X.head())\n",
        "print(y[0:5])\n"
      ],
      "metadata": {
        "colab": {
          "base_uri": "https://localhost:8080/"
        },
        "id": "8Q1sTHBuqp0p",
        "outputId": "95fb16b1-f58d-47ca-aac7-a95e9410a5c1"
      },
      "execution_count": null,
      "outputs": [
        {
          "output_type": "stream",
          "name": "stdout",
          "text": [
            "   Pregnancies  Glucose    BP    ST  Insulin   BMI    DPF  Age\n",
            "0            6    148.0  72.0  35.0    125.0  33.6  0.627   50\n",
            "1            1     85.0  66.0  29.0    125.0  26.6  0.351   31\n",
            "2            8    183.0  64.0  29.0    125.0  23.3  0.672   32\n",
            "3            1     89.0  66.0  23.0     94.0  28.1  0.167   21\n",
            "4            0    137.0  40.0  35.0    168.0  43.1  2.288   33\n",
            "[1 0 1 0 1]\n"
          ]
        }
      ]
    },
    {
      "cell_type": "markdown",
      "source": [
        "#Data Normalization"
      ],
      "metadata": {
        "id": "cOsZFTdcD-7J"
      }
    },
    {
      "cell_type": "code",
      "source": [
        "\n",
        "'''\n",
        "X_normalized = (X-np.min(X))/(np.max(X)-np.min(X))\n",
        "print(\"the data after normalization: \")\n",
        "print(X_normalized.head())\n",
        "'''"
      ],
      "metadata": {
        "colab": {
          "base_uri": "https://localhost:8080/",
          "height": 35
        },
        "id": "Mz9jv-IZx3x3",
        "outputId": "0223b94d-4c6c-43ee-8385-64072ad849c6"
      },
      "execution_count": null,
      "outputs": [
        {
          "output_type": "execute_result",
          "data": {
            "text/plain": [
              "'\\nX_normalized = (X-np.min(X))/(np.max(X)-np.min(X))\\nprint(\"the data after normalization: \")\\nprint(X_normalized.head())\\n'"
            ],
            "application/vnd.google.colaboratory.intrinsic+json": {
              "type": "string"
            }
          },
          "metadata": {},
          "execution_count": 19
        }
      ]
    },
    {
      "cell_type": "markdown",
      "source": [
        "#Data Splitting"
      ],
      "metadata": {
        "id": "MsOcN5JuENRB"
      }
    },
    {
      "cell_type": "code",
      "source": [
        "from sklearn.model_selection import train_test_split\n",
        "\n",
        "X_train, X_test, y_train, y_test = train_test_split(X, y, test_size=0.30, random_state=0)\n",
        "\n"
      ],
      "metadata": {
        "id": "FlWHaonMDEbA"
      },
      "execution_count": null,
      "outputs": []
    },
    {
      "cell_type": "code",
      "source": [
        "from pycaret.classification import *\n",
        "\n",
        "diab = setup(data = df_new,target = 'Outcome',normalize=True, session_id=1)"
      ],
      "metadata": {
        "colab": {
          "base_uri": "https://localhost:8080/",
          "height": 708
        },
        "id": "mQ8EWQ-PLebX",
        "outputId": "777a1d2c-64ae-4830-9774-7a274d461a3f"
      },
      "execution_count": null,
      "outputs": [
        {
          "output_type": "display_data",
          "data": {
            "text/plain": [
              "<pandas.io.formats.style.Styler at 0x7eb82d9ffb50>"
            ],
            "text/html": [
              "<style type=\"text/css\">\n",
              "#T_75be8_row8_col1, #T_75be8_row12_col1 {\n",
              "  background-color: lightgreen;\n",
              "}\n",
              "</style>\n",
              "<table id=\"T_75be8\" class=\"dataframe\">\n",
              "  <thead>\n",
              "    <tr>\n",
              "      <th class=\"blank level0\" >&nbsp;</th>\n",
              "      <th id=\"T_75be8_level0_col0\" class=\"col_heading level0 col0\" >Description</th>\n",
              "      <th id=\"T_75be8_level0_col1\" class=\"col_heading level0 col1\" >Value</th>\n",
              "    </tr>\n",
              "  </thead>\n",
              "  <tbody>\n",
              "    <tr>\n",
              "      <th id=\"T_75be8_level0_row0\" class=\"row_heading level0 row0\" >0</th>\n",
              "      <td id=\"T_75be8_row0_col0\" class=\"data row0 col0\" >Session id</td>\n",
              "      <td id=\"T_75be8_row0_col1\" class=\"data row0 col1\" >1</td>\n",
              "    </tr>\n",
              "    <tr>\n",
              "      <th id=\"T_75be8_level0_row1\" class=\"row_heading level0 row1\" >1</th>\n",
              "      <td id=\"T_75be8_row1_col0\" class=\"data row1 col0\" >Target</td>\n",
              "      <td id=\"T_75be8_row1_col1\" class=\"data row1 col1\" >Outcome</td>\n",
              "    </tr>\n",
              "    <tr>\n",
              "      <th id=\"T_75be8_level0_row2\" class=\"row_heading level0 row2\" >2</th>\n",
              "      <td id=\"T_75be8_row2_col0\" class=\"data row2 col0\" >Target type</td>\n",
              "      <td id=\"T_75be8_row2_col1\" class=\"data row2 col1\" >Binary</td>\n",
              "    </tr>\n",
              "    <tr>\n",
              "      <th id=\"T_75be8_level0_row3\" class=\"row_heading level0 row3\" >3</th>\n",
              "      <td id=\"T_75be8_row3_col0\" class=\"data row3 col0\" >Original data shape</td>\n",
              "      <td id=\"T_75be8_row3_col1\" class=\"data row3 col1\" >(768, 9)</td>\n",
              "    </tr>\n",
              "    <tr>\n",
              "      <th id=\"T_75be8_level0_row4\" class=\"row_heading level0 row4\" >4</th>\n",
              "      <td id=\"T_75be8_row4_col0\" class=\"data row4 col0\" >Transformed data shape</td>\n",
              "      <td id=\"T_75be8_row4_col1\" class=\"data row4 col1\" >(768, 9)</td>\n",
              "    </tr>\n",
              "    <tr>\n",
              "      <th id=\"T_75be8_level0_row5\" class=\"row_heading level0 row5\" >5</th>\n",
              "      <td id=\"T_75be8_row5_col0\" class=\"data row5 col0\" >Transformed train set shape</td>\n",
              "      <td id=\"T_75be8_row5_col1\" class=\"data row5 col1\" >(537, 9)</td>\n",
              "    </tr>\n",
              "    <tr>\n",
              "      <th id=\"T_75be8_level0_row6\" class=\"row_heading level0 row6\" >6</th>\n",
              "      <td id=\"T_75be8_row6_col0\" class=\"data row6 col0\" >Transformed test set shape</td>\n",
              "      <td id=\"T_75be8_row6_col1\" class=\"data row6 col1\" >(231, 9)</td>\n",
              "    </tr>\n",
              "    <tr>\n",
              "      <th id=\"T_75be8_level0_row7\" class=\"row_heading level0 row7\" >7</th>\n",
              "      <td id=\"T_75be8_row7_col0\" class=\"data row7 col0\" >Numeric features</td>\n",
              "      <td id=\"T_75be8_row7_col1\" class=\"data row7 col1\" >8</td>\n",
              "    </tr>\n",
              "    <tr>\n",
              "      <th id=\"T_75be8_level0_row8\" class=\"row_heading level0 row8\" >8</th>\n",
              "      <td id=\"T_75be8_row8_col0\" class=\"data row8 col0\" >Preprocess</td>\n",
              "      <td id=\"T_75be8_row8_col1\" class=\"data row8 col1\" >True</td>\n",
              "    </tr>\n",
              "    <tr>\n",
              "      <th id=\"T_75be8_level0_row9\" class=\"row_heading level0 row9\" >9</th>\n",
              "      <td id=\"T_75be8_row9_col0\" class=\"data row9 col0\" >Imputation type</td>\n",
              "      <td id=\"T_75be8_row9_col1\" class=\"data row9 col1\" >simple</td>\n",
              "    </tr>\n",
              "    <tr>\n",
              "      <th id=\"T_75be8_level0_row10\" class=\"row_heading level0 row10\" >10</th>\n",
              "      <td id=\"T_75be8_row10_col0\" class=\"data row10 col0\" >Numeric imputation</td>\n",
              "      <td id=\"T_75be8_row10_col1\" class=\"data row10 col1\" >mean</td>\n",
              "    </tr>\n",
              "    <tr>\n",
              "      <th id=\"T_75be8_level0_row11\" class=\"row_heading level0 row11\" >11</th>\n",
              "      <td id=\"T_75be8_row11_col0\" class=\"data row11 col0\" >Categorical imputation</td>\n",
              "      <td id=\"T_75be8_row11_col1\" class=\"data row11 col1\" >mode</td>\n",
              "    </tr>\n",
              "    <tr>\n",
              "      <th id=\"T_75be8_level0_row12\" class=\"row_heading level0 row12\" >12</th>\n",
              "      <td id=\"T_75be8_row12_col0\" class=\"data row12 col0\" >Normalize</td>\n",
              "      <td id=\"T_75be8_row12_col1\" class=\"data row12 col1\" >True</td>\n",
              "    </tr>\n",
              "    <tr>\n",
              "      <th id=\"T_75be8_level0_row13\" class=\"row_heading level0 row13\" >13</th>\n",
              "      <td id=\"T_75be8_row13_col0\" class=\"data row13 col0\" >Normalize method</td>\n",
              "      <td id=\"T_75be8_row13_col1\" class=\"data row13 col1\" >zscore</td>\n",
              "    </tr>\n",
              "    <tr>\n",
              "      <th id=\"T_75be8_level0_row14\" class=\"row_heading level0 row14\" >14</th>\n",
              "      <td id=\"T_75be8_row14_col0\" class=\"data row14 col0\" >Fold Generator</td>\n",
              "      <td id=\"T_75be8_row14_col1\" class=\"data row14 col1\" >StratifiedKFold</td>\n",
              "    </tr>\n",
              "    <tr>\n",
              "      <th id=\"T_75be8_level0_row15\" class=\"row_heading level0 row15\" >15</th>\n",
              "      <td id=\"T_75be8_row15_col0\" class=\"data row15 col0\" >Fold Number</td>\n",
              "      <td id=\"T_75be8_row15_col1\" class=\"data row15 col1\" >10</td>\n",
              "    </tr>\n",
              "    <tr>\n",
              "      <th id=\"T_75be8_level0_row16\" class=\"row_heading level0 row16\" >16</th>\n",
              "      <td id=\"T_75be8_row16_col0\" class=\"data row16 col0\" >CPU Jobs</td>\n",
              "      <td id=\"T_75be8_row16_col1\" class=\"data row16 col1\" >-1</td>\n",
              "    </tr>\n",
              "    <tr>\n",
              "      <th id=\"T_75be8_level0_row17\" class=\"row_heading level0 row17\" >17</th>\n",
              "      <td id=\"T_75be8_row17_col0\" class=\"data row17 col0\" >Use GPU</td>\n",
              "      <td id=\"T_75be8_row17_col1\" class=\"data row17 col1\" >False</td>\n",
              "    </tr>\n",
              "    <tr>\n",
              "      <th id=\"T_75be8_level0_row18\" class=\"row_heading level0 row18\" >18</th>\n",
              "      <td id=\"T_75be8_row18_col0\" class=\"data row18 col0\" >Log Experiment</td>\n",
              "      <td id=\"T_75be8_row18_col1\" class=\"data row18 col1\" >False</td>\n",
              "    </tr>\n",
              "    <tr>\n",
              "      <th id=\"T_75be8_level0_row19\" class=\"row_heading level0 row19\" >19</th>\n",
              "      <td id=\"T_75be8_row19_col0\" class=\"data row19 col0\" >Experiment Name</td>\n",
              "      <td id=\"T_75be8_row19_col1\" class=\"data row19 col1\" >clf-default-name</td>\n",
              "    </tr>\n",
              "    <tr>\n",
              "      <th id=\"T_75be8_level0_row20\" class=\"row_heading level0 row20\" >20</th>\n",
              "      <td id=\"T_75be8_row20_col0\" class=\"data row20 col0\" >USI</td>\n",
              "      <td id=\"T_75be8_row20_col1\" class=\"data row20 col1\" >6286</td>\n",
              "    </tr>\n",
              "  </tbody>\n",
              "</table>\n"
            ]
          },
          "metadata": {}
        }
      ]
    },
    {
      "cell_type": "code",
      "source": [
        "best = compare_models()"
      ],
      "metadata": {
        "colab": {
          "base_uri": "https://localhost:8080/",
          "height": 520,
          "referenced_widgets": [
            "79e1c8ab6dcc4418af991925f04ade64",
            "dcf9ff2ff6fe46cfa428d33add236339",
            "39341e013d024283ad9dc193370eedc3",
            "e4486846893a40cd9cf2aaa07c5aecf9",
            "9b0fbd670b714e26a02a1ef9580f9d03",
            "d8b094357e13448d94c753f816c169c4",
            "94ba9fbbbb1c4681a76dd415f9af89c1",
            "465f9cdfee2c4b10a2855697539852b3",
            "01629cb85ce44f609a03b1fe634c6d2b",
            "42705d0bfe6f454ab853155e89c36bd8",
            "ff528f521c5c4a6d8108a0d3c98a8180"
          ]
        },
        "id": "y1jjV_3CN3jS",
        "outputId": "0c6a6bf7-478b-4614-de5f-699a0258ec0a"
      },
      "execution_count": null,
      "outputs": [
        {
          "output_type": "display_data",
          "data": {
            "text/plain": [
              "<IPython.core.display.HTML object>"
            ],
            "text/html": []
          },
          "metadata": {}
        },
        {
          "output_type": "display_data",
          "data": {
            "text/plain": [
              "<pandas.io.formats.style.Styler at 0x7eb8198be1a0>"
            ],
            "text/html": [
              "<style type=\"text/css\">\n",
              "#T_df105 th {\n",
              "  text-align: left;\n",
              "}\n",
              "#T_df105_row0_col0, #T_df105_row0_col2, #T_df105_row0_col3, #T_df105_row0_col4, #T_df105_row1_col0, #T_df105_row1_col1, #T_df105_row1_col3, #T_df105_row1_col5, #T_df105_row1_col6, #T_df105_row1_col7, #T_df105_row2_col0, #T_df105_row2_col1, #T_df105_row2_col2, #T_df105_row2_col3, #T_df105_row2_col4, #T_df105_row2_col5, #T_df105_row2_col6, #T_df105_row2_col7, #T_df105_row3_col0, #T_df105_row3_col1, #T_df105_row3_col2, #T_df105_row3_col3, #T_df105_row3_col4, #T_df105_row3_col5, #T_df105_row3_col6, #T_df105_row3_col7, #T_df105_row4_col0, #T_df105_row4_col1, #T_df105_row4_col2, #T_df105_row4_col3, #T_df105_row4_col4, #T_df105_row4_col5, #T_df105_row4_col6, #T_df105_row4_col7, #T_df105_row5_col0, #T_df105_row5_col1, #T_df105_row5_col2, #T_df105_row5_col3, #T_df105_row5_col4, #T_df105_row5_col5, #T_df105_row5_col6, #T_df105_row5_col7, #T_df105_row6_col0, #T_df105_row6_col1, #T_df105_row6_col2, #T_df105_row6_col4, #T_df105_row6_col5, #T_df105_row6_col6, #T_df105_row6_col7, #T_df105_row7_col0, #T_df105_row7_col1, #T_df105_row7_col2, #T_df105_row7_col3, #T_df105_row7_col4, #T_df105_row7_col5, #T_df105_row7_col6, #T_df105_row7_col7, #T_df105_row8_col0, #T_df105_row8_col1, #T_df105_row8_col2, #T_df105_row8_col3, #T_df105_row8_col4, #T_df105_row8_col5, #T_df105_row8_col6, #T_df105_row8_col7, #T_df105_row9_col0, #T_df105_row9_col1, #T_df105_row9_col2, #T_df105_row9_col3, #T_df105_row9_col4, #T_df105_row9_col5, #T_df105_row9_col6, #T_df105_row9_col7, #T_df105_row10_col0, #T_df105_row10_col1, #T_df105_row10_col2, #T_df105_row10_col3, #T_df105_row10_col4, #T_df105_row10_col5, #T_df105_row10_col6, #T_df105_row10_col7, #T_df105_row11_col0, #T_df105_row11_col1, #T_df105_row11_col2, #T_df105_row11_col3, #T_df105_row11_col4, #T_df105_row11_col5, #T_df105_row11_col6, #T_df105_row11_col7, #T_df105_row12_col0, #T_df105_row12_col1, #T_df105_row12_col2, #T_df105_row12_col3, #T_df105_row12_col4, #T_df105_row12_col5, #T_df105_row12_col6, #T_df105_row12_col7, #T_df105_row13_col0, #T_df105_row13_col1, #T_df105_row13_col2, #T_df105_row13_col3, #T_df105_row13_col4, #T_df105_row13_col5, #T_df105_row13_col6, #T_df105_row13_col7, #T_df105_row14_col0, #T_df105_row14_col1, #T_df105_row14_col2, #T_df105_row14_col3, #T_df105_row14_col4, #T_df105_row14_col5, #T_df105_row14_col6, #T_df105_row14_col7 {\n",
              "  text-align: left;\n",
              "}\n",
              "#T_df105_row0_col1, #T_df105_row0_col5, #T_df105_row0_col6, #T_df105_row0_col7, #T_df105_row1_col2, #T_df105_row1_col4, #T_df105_row6_col3 {\n",
              "  text-align: left;\n",
              "  background-color: yellow;\n",
              "}\n",
              "#T_df105_row0_col8, #T_df105_row1_col8, #T_df105_row2_col8, #T_df105_row3_col8, #T_df105_row6_col8, #T_df105_row7_col8, #T_df105_row8_col8, #T_df105_row9_col8, #T_df105_row10_col8, #T_df105_row11_col8, #T_df105_row12_col8, #T_df105_row13_col8, #T_df105_row14_col8 {\n",
              "  text-align: left;\n",
              "  background-color: lightgrey;\n",
              "}\n",
              "#T_df105_row4_col8, #T_df105_row5_col8 {\n",
              "  text-align: left;\n",
              "  background-color: yellow;\n",
              "  background-color: lightgrey;\n",
              "}\n",
              "</style>\n",
              "<table id=\"T_df105\" class=\"dataframe\">\n",
              "  <thead>\n",
              "    <tr>\n",
              "      <th class=\"blank level0\" >&nbsp;</th>\n",
              "      <th id=\"T_df105_level0_col0\" class=\"col_heading level0 col0\" >Model</th>\n",
              "      <th id=\"T_df105_level0_col1\" class=\"col_heading level0 col1\" >Accuracy</th>\n",
              "      <th id=\"T_df105_level0_col2\" class=\"col_heading level0 col2\" >AUC</th>\n",
              "      <th id=\"T_df105_level0_col3\" class=\"col_heading level0 col3\" >Recall</th>\n",
              "      <th id=\"T_df105_level0_col4\" class=\"col_heading level0 col4\" >Prec.</th>\n",
              "      <th id=\"T_df105_level0_col5\" class=\"col_heading level0 col5\" >F1</th>\n",
              "      <th id=\"T_df105_level0_col6\" class=\"col_heading level0 col6\" >Kappa</th>\n",
              "      <th id=\"T_df105_level0_col7\" class=\"col_heading level0 col7\" >MCC</th>\n",
              "      <th id=\"T_df105_level0_col8\" class=\"col_heading level0 col8\" >TT (Sec)</th>\n",
              "    </tr>\n",
              "  </thead>\n",
              "  <tbody>\n",
              "    <tr>\n",
              "      <th id=\"T_df105_level0_row0\" class=\"row_heading level0 row0\" >et</th>\n",
              "      <td id=\"T_df105_row0_col0\" class=\"data row0 col0\" >Extra Trees Classifier</td>\n",
              "      <td id=\"T_df105_row0_col1\" class=\"data row0 col1\" >0.7804</td>\n",
              "      <td id=\"T_df105_row0_col2\" class=\"data row0 col2\" >0.8466</td>\n",
              "      <td id=\"T_df105_row0_col3\" class=\"data row0 col3\" >0.6164</td>\n",
              "      <td id=\"T_df105_row0_col4\" class=\"data row0 col4\" >0.7136</td>\n",
              "      <td id=\"T_df105_row0_col5\" class=\"data row0 col5\" >0.6573</td>\n",
              "      <td id=\"T_df105_row0_col6\" class=\"data row0 col6\" >0.4984</td>\n",
              "      <td id=\"T_df105_row0_col7\" class=\"data row0 col7\" >0.5039</td>\n",
              "      <td id=\"T_df105_row0_col8\" class=\"data row0 col8\" >0.1980</td>\n",
              "    </tr>\n",
              "    <tr>\n",
              "      <th id=\"T_df105_level0_row1\" class=\"row_heading level0 row1\" >lr</th>\n",
              "      <td id=\"T_df105_row1_col0\" class=\"data row1 col0\" >Logistic Regression</td>\n",
              "      <td id=\"T_df105_row1_col1\" class=\"data row1 col1\" >0.7766</td>\n",
              "      <td id=\"T_df105_row1_col2\" class=\"data row1 col2\" >0.8509</td>\n",
              "      <td id=\"T_df105_row1_col3\" class=\"data row1 col3\" >0.5895</td>\n",
              "      <td id=\"T_df105_row1_col4\" class=\"data row1 col4\" >0.7176</td>\n",
              "      <td id=\"T_df105_row1_col5\" class=\"data row1 col5\" >0.6423</td>\n",
              "      <td id=\"T_df105_row1_col6\" class=\"data row1 col6\" >0.4839</td>\n",
              "      <td id=\"T_df105_row1_col7\" class=\"data row1 col7\" >0.4921</td>\n",
              "      <td id=\"T_df105_row1_col8\" class=\"data row1 col8\" >0.5780</td>\n",
              "    </tr>\n",
              "    <tr>\n",
              "      <th id=\"T_df105_level0_row2\" class=\"row_heading level0 row2\" >rf</th>\n",
              "      <td id=\"T_df105_row2_col0\" class=\"data row2 col0\" >Random Forest Classifier</td>\n",
              "      <td id=\"T_df105_row2_col1\" class=\"data row2 col1\" >0.7748</td>\n",
              "      <td id=\"T_df105_row2_col2\" class=\"data row2 col2\" >0.8328</td>\n",
              "      <td id=\"T_df105_row2_col3\" class=\"data row2 col3\" >0.6170</td>\n",
              "      <td id=\"T_df105_row2_col4\" class=\"data row2 col4\" >0.6990</td>\n",
              "      <td id=\"T_df105_row2_col5\" class=\"data row2 col5\" >0.6492</td>\n",
              "      <td id=\"T_df105_row2_col6\" class=\"data row2 col6\" >0.4867</td>\n",
              "      <td id=\"T_df105_row2_col7\" class=\"data row2 col7\" >0.4924</td>\n",
              "      <td id=\"T_df105_row2_col8\" class=\"data row2 col8\" >0.4370</td>\n",
              "    </tr>\n",
              "    <tr>\n",
              "      <th id=\"T_df105_level0_row3\" class=\"row_heading level0 row3\" >ridge</th>\n",
              "      <td id=\"T_df105_row3_col0\" class=\"data row3 col0\" >Ridge Classifier</td>\n",
              "      <td id=\"T_df105_row3_col1\" class=\"data row3 col1\" >0.7730</td>\n",
              "      <td id=\"T_df105_row3_col2\" class=\"data row3 col2\" >0.8503</td>\n",
              "      <td id=\"T_df105_row3_col3\" class=\"data row3 col3\" >0.5737</td>\n",
              "      <td id=\"T_df105_row3_col4\" class=\"data row3 col4\" >0.7152</td>\n",
              "      <td id=\"T_df105_row3_col5\" class=\"data row3 col5\" >0.6308</td>\n",
              "      <td id=\"T_df105_row3_col6\" class=\"data row3 col6\" >0.4721</td>\n",
              "      <td id=\"T_df105_row3_col7\" class=\"data row3 col7\" >0.4813</td>\n",
              "      <td id=\"T_df105_row3_col8\" class=\"data row3 col8\" >0.0670</td>\n",
              "    </tr>\n",
              "    <tr>\n",
              "      <th id=\"T_df105_level0_row4\" class=\"row_heading level0 row4\" >lda</th>\n",
              "      <td id=\"T_df105_row4_col0\" class=\"data row4 col0\" >Linear Discriminant Analysis</td>\n",
              "      <td id=\"T_df105_row4_col1\" class=\"data row4 col1\" >0.7693</td>\n",
              "      <td id=\"T_df105_row4_col2\" class=\"data row4 col2\" >0.8506</td>\n",
              "      <td id=\"T_df105_row4_col3\" class=\"data row4 col3\" >0.5737</td>\n",
              "      <td id=\"T_df105_row4_col4\" class=\"data row4 col4\" >0.7076</td>\n",
              "      <td id=\"T_df105_row4_col5\" class=\"data row4 col5\" >0.6268</td>\n",
              "      <td id=\"T_df105_row4_col6\" class=\"data row4 col6\" >0.4650</td>\n",
              "      <td id=\"T_df105_row4_col7\" class=\"data row4 col7\" >0.4743</td>\n",
              "      <td id=\"T_df105_row4_col8\" class=\"data row4 col8\" >0.0360</td>\n",
              "    </tr>\n",
              "    <tr>\n",
              "      <th id=\"T_df105_level0_row5\" class=\"row_heading level0 row5\" >nb</th>\n",
              "      <td id=\"T_df105_row5_col0\" class=\"data row5 col0\" >Naive Bayes</td>\n",
              "      <td id=\"T_df105_row5_col1\" class=\"data row5 col1\" >0.7617</td>\n",
              "      <td id=\"T_df105_row5_col2\" class=\"data row5 col2\" >0.8205</td>\n",
              "      <td id=\"T_df105_row5_col3\" class=\"data row5 col3\" >0.6146</td>\n",
              "      <td id=\"T_df105_row5_col4\" class=\"data row5 col4\" >0.6755</td>\n",
              "      <td id=\"T_df105_row5_col5\" class=\"data row5 col5\" >0.6411</td>\n",
              "      <td id=\"T_df105_row5_col6\" class=\"data row5 col6\" >0.4637</td>\n",
              "      <td id=\"T_df105_row5_col7\" class=\"data row5 col7\" >0.4666</td>\n",
              "      <td id=\"T_df105_row5_col8\" class=\"data row5 col8\" >0.0360</td>\n",
              "    </tr>\n",
              "    <tr>\n",
              "      <th id=\"T_df105_level0_row6\" class=\"row_heading level0 row6\" >ada</th>\n",
              "      <td id=\"T_df105_row6_col0\" class=\"data row6 col0\" >Ada Boost Classifier</td>\n",
              "      <td id=\"T_df105_row6_col1\" class=\"data row6 col1\" >0.7616</td>\n",
              "      <td id=\"T_df105_row6_col2\" class=\"data row6 col2\" >0.8281</td>\n",
              "      <td id=\"T_df105_row6_col3\" class=\"data row6 col3\" >0.6202</td>\n",
              "      <td id=\"T_df105_row6_col4\" class=\"data row6 col4\" >0.6718</td>\n",
              "      <td id=\"T_df105_row6_col5\" class=\"data row6 col5\" >0.6421</td>\n",
              "      <td id=\"T_df105_row6_col6\" class=\"data row6 col6\" >0.4645</td>\n",
              "      <td id=\"T_df105_row6_col7\" class=\"data row6 col7\" >0.4674</td>\n",
              "      <td id=\"T_df105_row6_col8\" class=\"data row6 col8\" >0.1340</td>\n",
              "    </tr>\n",
              "    <tr>\n",
              "      <th id=\"T_df105_level0_row7\" class=\"row_heading level0 row7\" >gbc</th>\n",
              "      <td id=\"T_df105_row7_col0\" class=\"data row7 col0\" >Gradient Boosting Classifier</td>\n",
              "      <td id=\"T_df105_row7_col1\" class=\"data row7 col1\" >0.7506</td>\n",
              "      <td id=\"T_df105_row7_col2\" class=\"data row7 col2\" >0.8285</td>\n",
              "      <td id=\"T_df105_row7_col3\" class=\"data row7 col3\" >0.6056</td>\n",
              "      <td id=\"T_df105_row7_col4\" class=\"data row7 col4\" >0.6526</td>\n",
              "      <td id=\"T_df105_row7_col5\" class=\"data row7 col5\" >0.6258</td>\n",
              "      <td id=\"T_df105_row7_col6\" class=\"data row7 col6\" >0.4400</td>\n",
              "      <td id=\"T_df105_row7_col7\" class=\"data row7 col7\" >0.4424</td>\n",
              "      <td id=\"T_df105_row7_col8\" class=\"data row7 col8\" >0.1810</td>\n",
              "    </tr>\n",
              "    <tr>\n",
              "      <th id=\"T_df105_level0_row8\" class=\"row_heading level0 row8\" >xgboost</th>\n",
              "      <td id=\"T_df105_row8_col0\" class=\"data row8 col0\" >Extreme Gradient Boosting</td>\n",
              "      <td id=\"T_df105_row8_col1\" class=\"data row8 col1\" >0.7450</td>\n",
              "      <td id=\"T_df105_row8_col2\" class=\"data row8 col2\" >0.8022</td>\n",
              "      <td id=\"T_df105_row8_col3\" class=\"data row8 col3\" >0.6058</td>\n",
              "      <td id=\"T_df105_row8_col4\" class=\"data row8 col4\" >0.6473</td>\n",
              "      <td id=\"T_df105_row8_col5\" class=\"data row8 col5\" >0.6189</td>\n",
              "      <td id=\"T_df105_row8_col6\" class=\"data row8 col6\" >0.4294</td>\n",
              "      <td id=\"T_df105_row8_col7\" class=\"data row8 col7\" >0.4348</td>\n",
              "      <td id=\"T_df105_row8_col8\" class=\"data row8 col8\" >0.1000</td>\n",
              "    </tr>\n",
              "    <tr>\n",
              "      <th id=\"T_df105_level0_row9\" class=\"row_heading level0 row9\" >lightgbm</th>\n",
              "      <td id=\"T_df105_row9_col0\" class=\"data row9 col0\" >Light Gradient Boosting Machine</td>\n",
              "      <td id=\"T_df105_row9_col1\" class=\"data row9 col1\" >0.7431</td>\n",
              "      <td id=\"T_df105_row9_col2\" class=\"data row9 col2\" >0.8074</td>\n",
              "      <td id=\"T_df105_row9_col3\" class=\"data row9 col3\" >0.5947</td>\n",
              "      <td id=\"T_df105_row9_col4\" class=\"data row9 col4\" >0.6498</td>\n",
              "      <td id=\"T_df105_row9_col5\" class=\"data row9 col5\" >0.6156</td>\n",
              "      <td id=\"T_df105_row9_col6\" class=\"data row9 col6\" >0.4246</td>\n",
              "      <td id=\"T_df105_row9_col7\" class=\"data row9 col7\" >0.4292</td>\n",
              "      <td id=\"T_df105_row9_col8\" class=\"data row9 col8\" >0.3200</td>\n",
              "    </tr>\n",
              "    <tr>\n",
              "      <th id=\"T_df105_level0_row10\" class=\"row_heading level0 row10\" >svm</th>\n",
              "      <td id=\"T_df105_row10_col0\" class=\"data row10 col0\" >SVM - Linear Kernel</td>\n",
              "      <td id=\"T_df105_row10_col1\" class=\"data row10 col1\" >0.7376</td>\n",
              "      <td id=\"T_df105_row10_col2\" class=\"data row10 col2\" >0.7875</td>\n",
              "      <td id=\"T_df105_row10_col3\" class=\"data row10 col3\" >0.5781</td>\n",
              "      <td id=\"T_df105_row10_col4\" class=\"data row10 col4\" >0.6608</td>\n",
              "      <td id=\"T_df105_row10_col5\" class=\"data row10 col5\" >0.5908</td>\n",
              "      <td id=\"T_df105_row10_col6\" class=\"data row10 col6\" >0.4064</td>\n",
              "      <td id=\"T_df105_row10_col7\" class=\"data row10 col7\" >0.4223</td>\n",
              "      <td id=\"T_df105_row10_col8\" class=\"data row10 col8\" >0.0380</td>\n",
              "    </tr>\n",
              "    <tr>\n",
              "      <th id=\"T_df105_level0_row11\" class=\"row_heading level0 row11\" >qda</th>\n",
              "      <td id=\"T_df105_row11_col0\" class=\"data row11 col0\" >Quadratic Discriminant Analysis</td>\n",
              "      <td id=\"T_df105_row11_col1\" class=\"data row11 col1\" >0.7376</td>\n",
              "      <td id=\"T_df105_row11_col2\" class=\"data row11 col2\" >0.8100</td>\n",
              "      <td id=\"T_df105_row11_col3\" class=\"data row11 col3\" >0.5468</td>\n",
              "      <td id=\"T_df105_row11_col4\" class=\"data row11 col4\" >0.6456</td>\n",
              "      <td id=\"T_df105_row11_col5\" class=\"data row11 col5\" >0.5904</td>\n",
              "      <td id=\"T_df105_row11_col6\" class=\"data row11 col6\" >0.4002</td>\n",
              "      <td id=\"T_df105_row11_col7\" class=\"data row11 col7\" >0.4040</td>\n",
              "      <td id=\"T_df105_row11_col8\" class=\"data row11 col8\" >0.0620</td>\n",
              "    </tr>\n",
              "    <tr>\n",
              "      <th id=\"T_df105_level0_row12\" class=\"row_heading level0 row12\" >knn</th>\n",
              "      <td id=\"T_df105_row12_col0\" class=\"data row12 col0\" >K Neighbors Classifier</td>\n",
              "      <td id=\"T_df105_row12_col1\" class=\"data row12 col1\" >0.7374</td>\n",
              "      <td id=\"T_df105_row12_col2\" class=\"data row12 col2\" >0.8029</td>\n",
              "      <td id=\"T_df105_row12_col3\" class=\"data row12 col3\" >0.5675</td>\n",
              "      <td id=\"T_df105_row12_col4\" class=\"data row12 col4\" >0.6519</td>\n",
              "      <td id=\"T_df105_row12_col5\" class=\"data row12 col5\" >0.5980</td>\n",
              "      <td id=\"T_df105_row12_col6\" class=\"data row12 col6\" >0.4062</td>\n",
              "      <td id=\"T_df105_row12_col7\" class=\"data row12 col7\" >0.4143</td>\n",
              "      <td id=\"T_df105_row12_col8\" class=\"data row12 col8\" >0.0560</td>\n",
              "    </tr>\n",
              "    <tr>\n",
              "      <th id=\"T_df105_level0_row13\" class=\"row_heading level0 row13\" >dt</th>\n",
              "      <td id=\"T_df105_row13_col0\" class=\"data row13 col0\" >Decision Tree Classifier</td>\n",
              "      <td id=\"T_df105_row13_col1\" class=\"data row13 col1\" >0.7077</td>\n",
              "      <td id=\"T_df105_row13_col2\" class=\"data row13 col2\" >0.6805</td>\n",
              "      <td id=\"T_df105_row13_col3\" class=\"data row13 col3\" >0.5895</td>\n",
              "      <td id=\"T_df105_row13_col4\" class=\"data row13 col4\" >0.5868</td>\n",
              "      <td id=\"T_df105_row13_col5\" class=\"data row13 col5\" >0.5813</td>\n",
              "      <td id=\"T_df105_row13_col6\" class=\"data row13 col6\" >0.3588</td>\n",
              "      <td id=\"T_df105_row13_col7\" class=\"data row13 col7\" >0.3641</td>\n",
              "      <td id=\"T_df105_row13_col8\" class=\"data row13 col8\" >0.0420</td>\n",
              "    </tr>\n",
              "    <tr>\n",
              "      <th id=\"T_df105_level0_row14\" class=\"row_heading level0 row14\" >dummy</th>\n",
              "      <td id=\"T_df105_row14_col0\" class=\"data row14 col0\" >Dummy Classifier</td>\n",
              "      <td id=\"T_df105_row14_col1\" class=\"data row14 col1\" >0.6518</td>\n",
              "      <td id=\"T_df105_row14_col2\" class=\"data row14 col2\" >0.5000</td>\n",
              "      <td id=\"T_df105_row14_col3\" class=\"data row14 col3\" >0.0000</td>\n",
              "      <td id=\"T_df105_row14_col4\" class=\"data row14 col4\" >0.0000</td>\n",
              "      <td id=\"T_df105_row14_col5\" class=\"data row14 col5\" >0.0000</td>\n",
              "      <td id=\"T_df105_row14_col6\" class=\"data row14 col6\" >0.0000</td>\n",
              "      <td id=\"T_df105_row14_col7\" class=\"data row14 col7\" >0.0000</td>\n",
              "      <td id=\"T_df105_row14_col8\" class=\"data row14 col8\" >0.0510</td>\n",
              "    </tr>\n",
              "  </tbody>\n",
              "</table>\n"
            ]
          },
          "metadata": {}
        },
        {
          "output_type": "display_data",
          "data": {
            "text/plain": [
              "Processing:   0%|          | 0/65 [00:00<?, ?it/s]"
            ],
            "application/vnd.jupyter.widget-view+json": {
              "version_major": 2,
              "version_minor": 0,
              "model_id": "79e1c8ab6dcc4418af991925f04ade64"
            }
          },
          "metadata": {
            "application/vnd.jupyter.widget-view+json": {
              "colab": {
                "custom_widget_manager": {
                  "url": "https://ssl.gstatic.com/colaboratory-static/widgets/colab-cdn-widget-manager/2b70e893a8ba7c0f/manager.min.js"
                }
              }
            }
          }
        },
        {
          "output_type": "display_data",
          "data": {
            "text/plain": [
              "<IPython.core.display.HTML object>"
            ],
            "text/html": []
          },
          "metadata": {}
        }
      ]
    },
    {
      "cell_type": "code",
      "source": [
        "evaluate_model(best)"
      ],
      "metadata": {
        "colab": {
          "base_uri": "https://localhost:8080/",
          "height": 209,
          "referenced_widgets": [
            "4f4cb4f51b1c4aeeb8e1c78d1a944d1f",
            "0fb9f52a10804d57ace5fe11cbeccf46",
            "1e75ed4aecd8474db34c5b8dfce4832c",
            "ebcca5999251499fbbc25ca8e4a8837e",
            "ad7f6edee8fb498bab77789a94f13b63",
            "c58c45484157442aaa477187d9cb20aa",
            "77f824d707cf4c14aeef7181c68ed0e1"
          ]
        },
        "id": "yWJlLa02OIVD",
        "outputId": "abe81b37-e5e6-4cdd-ba04-b76f09a0e8b1"
      },
      "execution_count": null,
      "outputs": [
        {
          "output_type": "display_data",
          "data": {
            "text/plain": [
              "interactive(children=(ToggleButtons(description='Plot Type:', icons=('',), options=(('Pipeline Plot', 'pipelin…"
            ],
            "application/vnd.jupyter.widget-view+json": {
              "version_major": 2,
              "version_minor": 0,
              "model_id": "4f4cb4f51b1c4aeeb8e1c78d1a944d1f"
            }
          },
          "metadata": {
            "application/vnd.jupyter.widget-view+json": {
              "colab": {
                "custom_widget_manager": {
                  "url": "https://ssl.gstatic.com/colaboratory-static/widgets/colab-cdn-widget-manager/2b70e893a8ba7c0f/manager.min.js"
                }
              }
            }
          }
        }
      ]
    },
    {
      "cell_type": "code",
      "source": [
        "pred_holdout = predict_model(best)"
      ],
      "metadata": {
        "colab": {
          "base_uri": "https://localhost:8080/",
          "height": 81
        },
        "id": "6mZV3BV_ORgU",
        "outputId": "d715d17c-3a48-4f55-a5da-899f2c22d1f6"
      },
      "execution_count": null,
      "outputs": [
        {
          "output_type": "display_data",
          "data": {
            "text/plain": [
              "<pandas.io.formats.style.Styler at 0x7eb88826eb60>"
            ],
            "text/html": [
              "<style type=\"text/css\">\n",
              "</style>\n",
              "<table id=\"T_149e9\" class=\"dataframe\">\n",
              "  <thead>\n",
              "    <tr>\n",
              "      <th class=\"blank level0\" >&nbsp;</th>\n",
              "      <th id=\"T_149e9_level0_col0\" class=\"col_heading level0 col0\" >Model</th>\n",
              "      <th id=\"T_149e9_level0_col1\" class=\"col_heading level0 col1\" >Accuracy</th>\n",
              "      <th id=\"T_149e9_level0_col2\" class=\"col_heading level0 col2\" >AUC</th>\n",
              "      <th id=\"T_149e9_level0_col3\" class=\"col_heading level0 col3\" >Recall</th>\n",
              "      <th id=\"T_149e9_level0_col4\" class=\"col_heading level0 col4\" >Prec.</th>\n",
              "      <th id=\"T_149e9_level0_col5\" class=\"col_heading level0 col5\" >F1</th>\n",
              "      <th id=\"T_149e9_level0_col6\" class=\"col_heading level0 col6\" >Kappa</th>\n",
              "      <th id=\"T_149e9_level0_col7\" class=\"col_heading level0 col7\" >MCC</th>\n",
              "    </tr>\n",
              "  </thead>\n",
              "  <tbody>\n",
              "    <tr>\n",
              "      <th id=\"T_149e9_level0_row0\" class=\"row_heading level0 row0\" >0</th>\n",
              "      <td id=\"T_149e9_row0_col0\" class=\"data row0 col0\" >Extra Trees Classifier</td>\n",
              "      <td id=\"T_149e9_row0_col1\" class=\"data row0 col1\" >0.7619</td>\n",
              "      <td id=\"T_149e9_row0_col2\" class=\"data row0 col2\" >0.8148</td>\n",
              "      <td id=\"T_149e9_row0_col3\" class=\"data row0 col3\" >0.5679</td>\n",
              "      <td id=\"T_149e9_row0_col4\" class=\"data row0 col4\" >0.6970</td>\n",
              "      <td id=\"T_149e9_row0_col5\" class=\"data row0 col5\" >0.6259</td>\n",
              "      <td id=\"T_149e9_row0_col6\" class=\"data row0 col6\" >0.4539</td>\n",
              "      <td id=\"T_149e9_row0_col7\" class=\"data row0 col7\" >0.4590</td>\n",
              "    </tr>\n",
              "  </tbody>\n",
              "</table>\n"
            ]
          },
          "metadata": {}
        }
      ]
    },
    {
      "cell_type": "code",
      "source": [
        "\n",
        "from sklearn.model_selection import GridSearchCV\n",
        "\n",
        "from sklearn.ensemble import ExtraTreesClassifier\n",
        "from sklearn.datasets import make_classification\n",
        "X, y = make_classification(n_features=8, random_state=0)\n",
        "#n=1\n",
        "#for i in range(900,3000,100):\n",
        "\n",
        "clf = ExtraTreesClassifier(n_estimators=900,criterion='gini',\n",
        "                                max_depth=None, min_samples_split=2,\n",
        "                                min_samples_leaf=1, min_weight_fraction_leaf=0.0,\n",
        "                                max_features='sqrt', max_leaf_nodes=None,\n",
        "                                min_impurity_decrease=0.0, bootstrap=False,\n",
        "                                oob_score=False, n_jobs=None, random_state=None,\n",
        "                                verbose=0, warm_start=False, class_weight=None, ccp_alpha=0.0,\n",
        "                                max_samples=None, monotonic_cst=None)\n",
        "clf.fit(X_train, y_train)\n",
        "print(clf.score(X_test,y_test))\n",
        "\n",
        "#print(n, \"Score: %\",clf.score(X_test,y_test)*100)\n",
        " #    n +=1\n"
      ],
      "metadata": {
        "colab": {
          "base_uri": "https://localhost:8080/"
        },
        "id": "DTJmrfiePmdm",
        "outputId": "a0bc0aa3-b586-4284-bf43-30f4d9decb7a"
      },
      "execution_count": null,
      "outputs": [
        {
          "output_type": "stream",
          "name": "stdout",
          "text": [
            "0.7705627705627706\n"
          ]
        }
      ]
    },
    {
      "cell_type": "code",
      "source": [
        "\n",
        "from sklearn.linear_model import LogisticRegression\n",
        "\n",
        "lr = LogisticRegression()\n",
        "lr.fit(X_train, y_train)\n",
        "prediction_1 = lr.predict(X_test)\n",
        "print(prediction_1)\n",
        "print(lr.score(X_test,y_test))\n"
      ],
      "metadata": {
        "colab": {
          "base_uri": "https://localhost:8080/"
        },
        "id": "C6V1L_SBWlgI",
        "outputId": "0cd3228f-0f94-489a-fc3d-eaa812255c55"
      },
      "execution_count": null,
      "outputs": [
        {
          "output_type": "stream",
          "name": "stdout",
          "text": [
            "[1 0 0 1 0 0 1 1 1 0 1 1 0 0 0 0 1 0 0 0 1 0 0 0 0 0 0 1 0 0 0 0 0 1 0 1 0\n",
            " 0 0 1 0 0 0 1 1 0 0 0 0 0 0 0 1 0 0 0 0 1 0 0 1 1 0 1 1 1 1 0 0 0 0 0 0 1\n",
            " 1 0 0 1 0 0 0 0 0 0 0 0 0 1 1 0 0 0 0 0 1 0 0 0 1 0 0 0 0 0 1 0 0 0 0 1 0\n",
            " 0 1 0 1 1 0 1 0 1 0 0 0 0 0 0 0 0 1 0 0 0 0 1 0 0 0 0 0 0 0 1 0 0 0 0 0 0\n",
            " 0 0 0 1 0 0 1 0 1 0 0 1 1 1 0 0 1 0 0 0 0 0 0 0 0 0 1 0 0 0 0 0 0 1 0 1 1\n",
            " 0 0 0 0 0 0 0 0 0 0 1 1 1 0 0 0 0 0 0 0 0 0 0 0 0 0 0 0 0 0 0 1 0 1 0 0 0\n",
            " 0 1 0 1 0 0 0 0 0]\n",
            "0.7662337662337663\n"
          ]
        }
      ]
    },
    {
      "cell_type": "code",
      "source": [
        "\n",
        "from sklearn.ensemble import RandomForestClassifier\n",
        "\n",
        "\n",
        "classifier = RandomForestClassifier(n_estimators=300)\n",
        "classifier.fit(X_train, y_train)\n",
        "prediction_2 = classifier.predict(X_test)\n",
        "print(prediction_2)\n",
        "print(classifier.score(X_test, y_test))\n",
        "\n",
        "from sklearn.metrics import classification_report, confusion_matrix\n",
        "\n",
        "print(confusion_matrix(y_test, prediction_2))\n",
        "print(classification_report(y_test, prediction_2))\n"
      ],
      "metadata": {
        "colab": {
          "base_uri": "https://localhost:8080/"
        },
        "id": "2PW9WVyfX2uw",
        "outputId": "7fb9fa64-c3b4-4b8c-a7ed-034c4fbe246d"
      },
      "execution_count": null,
      "outputs": [
        {
          "output_type": "stream",
          "name": "stdout",
          "text": [
            "[1 0 0 1 0 0 1 1 0 0 1 1 0 0 0 0 1 0 0 0 1 0 0 0 0 0 0 1 0 0 0 0 0 1 0 1 1\n",
            " 0 0 1 0 0 0 1 1 0 0 0 0 0 0 0 1 1 0 0 0 0 0 1 1 1 0 1 1 0 1 0 1 0 0 0 0 1\n",
            " 1 0 0 1 0 0 0 0 0 0 0 0 0 0 1 0 0 0 0 0 1 0 0 0 0 1 0 0 0 0 1 1 0 0 0 1 0\n",
            " 0 1 0 1 1 0 0 0 1 0 0 0 0 0 0 0 0 0 1 0 0 0 1 0 1 0 1 0 0 0 1 0 0 1 0 0 0\n",
            " 0 0 0 0 0 0 1 0 1 0 0 1 1 1 0 0 1 0 0 0 0 0 0 0 0 0 0 0 0 0 0 0 0 1 0 1 0\n",
            " 0 1 0 0 0 0 0 0 0 0 1 1 0 0 1 0 0 0 1 0 0 0 0 0 0 0 0 0 0 0 0 0 0 0 0 0 0\n",
            " 1 1 1 1 0 0 0 0 1]\n",
            "0.7792207792207793\n",
            "[[138  19]\n",
            " [ 32  42]]\n",
            "              precision    recall  f1-score   support\n",
            "\n",
            "           0       0.81      0.88      0.84       157\n",
            "           1       0.69      0.57      0.62        74\n",
            "\n",
            "    accuracy                           0.78       231\n",
            "   macro avg       0.75      0.72      0.73       231\n",
            "weighted avg       0.77      0.78      0.77       231\n",
            "\n"
          ]
        }
      ]
    },
    {
      "cell_type": "code",
      "source": [
        "\n",
        "from xgboost import XGBClassifier\n",
        "\n",
        "xgb_model = XGBClassifier(gamma=0)\n",
        "xgb_model.fit(X_train, y_train)\n",
        "xgb_prediction = xgb_model.predict(X_test)\n",
        "print(xgb_prediction)\n",
        "print(xgb_model.score(X_test, y_test))\n",
        "print(confusion_matrix(y_test, xgb_prediction))\n",
        "print(classification_report(y_test, xgb_prediction))\n"
      ],
      "metadata": {
        "colab": {
          "base_uri": "https://localhost:8080/"
        },
        "id": "fbO-RdJMFxbx",
        "outputId": "e9a833e8-9243-4410-b2e3-f1c3c57fe43d"
      },
      "execution_count": null,
      "outputs": [
        {
          "output_type": "stream",
          "name": "stdout",
          "text": [
            "[1 0 0 1 0 0 1 1 0 0 1 1 0 0 1 1 1 0 0 0 1 0 0 0 0 0 0 1 0 0 0 0 0 1 0 1 1\n",
            " 0 0 1 1 0 0 1 1 0 0 0 0 0 1 0 1 1 0 0 0 0 0 1 1 1 0 1 1 0 1 0 1 0 0 0 0 1\n",
            " 1 1 0 0 0 0 0 0 0 0 0 0 0 0 1 0 0 0 0 0 1 0 0 0 0 1 0 0 0 0 1 1 0 0 0 1 0\n",
            " 1 1 1 1 1 0 0 0 1 0 0 0 1 0 0 0 0 0 1 0 0 0 1 1 1 0 1 0 0 0 1 0 0 1 0 0 0\n",
            " 0 0 0 0 0 0 1 0 1 0 0 1 1 0 0 0 1 0 0 0 0 0 0 0 1 0 0 0 0 0 0 0 0 1 0 1 0\n",
            " 0 1 1 1 0 0 0 0 0 0 1 1 1 0 1 0 0 0 1 0 0 0 0 0 0 0 0 0 0 0 0 1 0 0 0 0 0\n",
            " 1 0 1 1 0 1 0 0 1]\n",
            "0.7705627705627706\n",
            "[[131  26]\n",
            " [ 27  47]]\n",
            "              precision    recall  f1-score   support\n",
            "\n",
            "           0       0.83      0.83      0.83       157\n",
            "           1       0.64      0.64      0.64        74\n",
            "\n",
            "    accuracy                           0.77       231\n",
            "   macro avg       0.74      0.73      0.74       231\n",
            "weighted avg       0.77      0.77      0.77       231\n",
            "\n"
          ]
        }
      ]
    },
    {
      "cell_type": "code",
      "source": [
        "\n",
        "from sklearn.svm import SVC\n",
        "\n",
        "svc_model = SVC()\n",
        "svc_model.fit(X_train, y_train)\n",
        "svc_prediction = svc_model.predict(X_test)\n",
        "print(svc_prediction)\n",
        "print(svc_model.score(X_test, y_test))\n",
        "print(confusion_matrix(y_test, svc_prediction))\n",
        "print(classification_report(y_test, svc_prediction))\n"
      ],
      "metadata": {
        "colab": {
          "base_uri": "https://localhost:8080/"
        },
        "id": "8X7p9TqwG1Xi",
        "outputId": "b6e180a7-ba44-46cd-fd0e-acb2e1e2e9ad"
      },
      "execution_count": null,
      "outputs": [
        {
          "output_type": "stream",
          "name": "stdout",
          "text": [
            "[1 0 0 1 0 0 1 1 0 0 1 1 0 0 0 0 1 0 0 0 1 0 0 0 0 0 0 1 0 0 0 0 0 0 0 1 0\n",
            " 0 0 1 0 0 0 1 1 0 0 0 0 0 0 0 1 0 0 0 0 0 0 0 1 0 0 0 1 1 1 0 0 0 0 0 0 1\n",
            " 1 0 0 1 0 0 0 0 0 0 0 0 0 0 1 0 0 0 0 0 1 0 0 1 0 0 0 0 0 0 0 0 0 0 0 1 0\n",
            " 0 1 0 1 1 0 1 0 0 0 0 0 0 0 0 0 0 0 1 0 0 0 1 0 0 0 0 0 0 0 1 0 0 0 0 0 0\n",
            " 0 0 0 1 0 0 1 0 1 0 0 1 1 1 0 0 1 0 0 0 0 0 0 0 0 0 1 0 0 0 0 0 0 1 0 1 0\n",
            " 0 0 0 0 0 0 0 0 0 0 0 1 0 0 0 0 0 0 0 0 0 0 0 0 0 0 0 0 0 0 0 0 0 1 0 0 0\n",
            " 0 0 1 1 0 0 0 0 0]\n",
            "0.7489177489177489\n",
            "[[142  15]\n",
            " [ 43  31]]\n",
            "              precision    recall  f1-score   support\n",
            "\n",
            "           0       0.77      0.90      0.83       157\n",
            "           1       0.67      0.42      0.52        74\n",
            "\n",
            "    accuracy                           0.75       231\n",
            "   macro avg       0.72      0.66      0.67       231\n",
            "weighted avg       0.74      0.75      0.73       231\n",
            "\n"
          ]
        }
      ]
    },
    {
      "cell_type": "code",
      "source": [
        "\n",
        "from sklearn.naive_bayes import GaussianNB\n",
        "naives_model = GaussianNB()\n",
        "naives_model.fit(X_train, y_train)\n",
        "naives_prediction = naives_model.predict(X_test)\n",
        "\n",
        "print(naives_prediction)\n",
        "print(naives_model.score(X_test, y_test))\n",
        "print(confusion_matrix(y_test, naives_prediction))\n",
        "print(classification_report(y_test, naives_prediction))\n"
      ],
      "metadata": {
        "colab": {
          "base_uri": "https://localhost:8080/"
        },
        "id": "D6vb2rNaHqoE",
        "outputId": "f40e8ded-954b-44e4-8fc0-a919d57b4f34"
      },
      "execution_count": null,
      "outputs": [
        {
          "output_type": "stream",
          "name": "stdout",
          "text": [
            "[1 0 0 1 0 0 1 1 1 0 1 1 0 0 0 0 1 0 0 0 1 0 0 0 0 0 0 1 0 0 0 0 0 0 0 1 1\n",
            " 0 0 1 0 0 0 1 1 0 0 0 0 0 0 0 1 1 0 0 0 1 0 0 1 1 0 0 1 1 1 0 0 0 0 0 0 1\n",
            " 1 0 0 1 0 0 0 1 0 0 0 0 0 0 1 0 0 0 0 0 1 0 0 1 1 0 1 0 0 0 1 0 0 0 0 1 0\n",
            " 0 1 1 1 1 0 1 0 1 0 1 0 1 0 0 0 0 0 0 0 0 0 1 0 0 0 0 0 0 0 0 0 0 0 0 0 0\n",
            " 0 0 0 1 0 0 1 0 1 0 0 1 1 1 0 0 1 0 0 0 0 0 0 0 0 0 0 0 0 0 0 0 0 1 0 1 0\n",
            " 0 0 0 0 0 0 0 0 0 0 1 1 1 0 0 0 0 0 0 0 0 0 0 0 0 0 0 0 0 0 0 0 0 0 0 0 0\n",
            " 1 1 1 1 0 0 0 0 0]\n",
            "0.7619047619047619\n",
            "[[137  20]\n",
            " [ 35  39]]\n",
            "              precision    recall  f1-score   support\n",
            "\n",
            "           0       0.80      0.87      0.83       157\n",
            "           1       0.66      0.53      0.59        74\n",
            "\n",
            "    accuracy                           0.76       231\n",
            "   macro avg       0.73      0.70      0.71       231\n",
            "weighted avg       0.75      0.76      0.75       231\n",
            "\n"
          ]
        }
      ]
    },
    {
      "cell_type": "code",
      "source": [
        "\n",
        "from sklearn.neighbors import KNeighborsClassifier\n",
        "\n",
        "knn = KNeighborsClassifier(n_neighbors=3)\n",
        "knn.fit(X_train, y_train)\n",
        "prediction = knn.predict(X_test)\n",
        "print(knn.score(X_test, y_test))"
      ],
      "metadata": {
        "colab": {
          "base_uri": "https://localhost:8080/"
        },
        "id": "MWqdXKFyEWZJ",
        "outputId": "ee06b57b-268d-4c2f-bf3c-cafedcc712ab"
      },
      "execution_count": null,
      "outputs": [
        {
          "output_type": "stream",
          "name": "stdout",
          "text": [
            "0.7142857142857143\n"
          ]
        }
      ]
    },
    {
      "cell_type": "code",
      "source": [
        "n = 1\n",
        "for k in range(1,11):\n",
        "  n_knn = KNeighborsClassifier(n_neighbors=k)\n",
        "  n_knn.fit(X_train, y_train)\n",
        "  print(n, \"Score: %\",n_knn.score(X_test,y_test)*100)\n",
        "  n += 1\n",
        "\n"
      ],
      "metadata": {
        "colab": {
          "base_uri": "https://localhost:8080/"
        },
        "id": "9UxzJIyaGUdu",
        "outputId": "9ab45be8-94bf-42b9-cb73-e64af3875a3b"
      },
      "execution_count": null,
      "outputs": [
        {
          "output_type": "stream",
          "name": "stdout",
          "text": [
            "1 Score: % 64.93506493506493\n",
            "2 Score: % 69.6969696969697\n",
            "3 Score: % 71.42857142857143\n",
            "4 Score: % 72.2943722943723\n",
            "5 Score: % 72.2943722943723\n",
            "6 Score: % 70.56277056277057\n",
            "7 Score: % 72.72727272727273\n",
            "8 Score: % 74.89177489177489\n",
            "9 Score: % 75.75757575757575\n",
            "10 Score: % 76.19047619047619\n"
          ]
        }
      ]
    },
    {
      "cell_type": "code",
      "source": [
        "#Model After tuning\n",
        "knn_tune = KNeighborsClassifier(n_neighbors=10)\n",
        "knn_tune.fit(X_train, y_train)\n",
        "knn_tune.predict(X_test)\n",
        "print(knn_tune.score(X_test,y_test))\n"
      ],
      "metadata": {
        "colab": {
          "base_uri": "https://localhost:8080/"
        },
        "id": "dku1PW5_IUtv",
        "outputId": "fa08080a-66a4-40e3-be70-ca7a1b67e42a"
      },
      "execution_count": null,
      "outputs": [
        {
          "output_type": "stream",
          "name": "stdout",
          "text": [
            "0.7619047619047619\n"
          ]
        }
      ]
    }
  ]
}